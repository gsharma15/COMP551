{
  "cells": [
    {
      "cell_type": "code",
      "execution_count": null,
      "metadata": {
        "colab": {
          "base_uri": "https://localhost:8080/"
        },
        "id": "ti8sD0Wh0xKC",
        "outputId": "7c5242b2-3e0e-453e-860b-8e6c1761f55d"
      },
      "outputs": [
        {
          "output_type": "stream",
          "name": "stdout",
          "text": [
            "--2022-02-09 01:19:15--  http://archive.ics.uci.edu/ml/machine-learning-databases/hepatitis/hepatitis.data\n",
            "Resolving archive.ics.uci.edu (archive.ics.uci.edu)... 128.195.10.252\n",
            "Connecting to archive.ics.uci.edu (archive.ics.uci.edu)|128.195.10.252|:80... connected.\n",
            "HTTP request sent, awaiting response... 200 OK\n",
            "Length: 7545 (7.4K) [application/x-httpd-php]\n",
            "Saving to: ‘hepatitis.data’\n",
            "\n",
            "\rhepatitis.data        0%[                    ]       0  --.-KB/s               \rhepatitis.data      100%[===================>]   7.37K  --.-KB/s    in 0s      \n",
            "\n",
            "2022-02-09 01:19:15 (487 MB/s) - ‘hepatitis.data’ saved [7545/7545]\n",
            "\n"
          ]
        },
        {
          "output_type": "execute_result",
          "data": {
            "text/plain": [
              ""
            ]
          },
          "metadata": {},
          "execution_count": 1
        }
      ],
      "source": [
        "%%shell\n",
        "wget http://archive.ics.uci.edu/ml/machine-learning-databases/hepatitis/hepatitis.data"
      ]
    },
    {
      "cell_type": "code",
      "source": [
        "#importing the libraries\n",
        "\n",
        "import numpy as np\n",
        "import pandas as pd\n",
        "import matplotlib.pyplot as plt\n",
        "import seaborn as sns\n",
        "import plotly.graph_objects as go\n",
        "import plotly.express as px"
      ],
      "metadata": {
        "id": "FRCMfqHqhQ1o"
      },
      "execution_count": null,
      "outputs": []
    },
    {
      "cell_type": "markdown",
      "source": [
        "## Preprocessing"
      ],
      "metadata": {
        "id": "2osqNPqXhd0S"
      }
    },
    {
      "cell_type": "code",
      "source": [
        "def hep_load(file_path) -> pd.DataFrame:\n",
        "    HEP_DEAD = 1  # 1 means dead\n",
        "    HEP_ALIVE = 2  # 2 means alive\n",
        "\n",
        "    # Based on info in hepatitis.names\n",
        "    col_names = ['class', 'age', 'sex', 'steroid', 'antivirals', 'fatigue', 'malaise',\n",
        "                 'anorexia', 'liver big', 'liver firm', 'spleen palpable', 'spiders', # wtf?? haha see https://en.wikipedia.org/wiki/Spider_angioma#:~:text=Spider%20Angiomas%20(spider%2Dlike%20blood,and%20cured%20by%20oral%20medication.\n",
        "                  'ascites', 'varices', 'bilirubin', 'alk phosphate', 'sgot', 'albumin',\n",
        "                 'protime', 'histology']\n",
        "\n",
        "    df = pd.read_csv(file_path, names=col_names)\n",
        "\n",
        "    # Sanity check some basic info as per hepatitis.names\n",
        "    assert len(df.columns) == 20\n",
        "    assert len(df) == 155\n",
        "    assert len(df[df['class'] == HEP_DEAD]) == 32\n",
        "    assert len(df[df['class'] == HEP_ALIVE]) == 123\n",
        "\n",
        "    # This is important to convert everything to floats. Values that can't be converted to\n",
        "    # numbers will be NaNs.\n",
        "    return df.apply(pd.to_numeric, errors='coerce')\n",
        "\n",
        "\n",
        "def hep_show_stats(df):\n",
        "    pass # TODO\n",
        "\n",
        "\n",
        "def hep_clean(df):\n",
        "    # TODO fill in missing data or just drop feature columns that don't really matter\n",
        "    # For now let's just drop any row that has a missing value. Note that this drops around\n",
        "    # half the dataset, so definitely need to improve this.\n",
        "    return df.dropna()\n"
      ],
      "metadata": {
        "id": "CGGi4txbhdGZ"
      },
      "execution_count": null,
      "outputs": []
    },
    {
      "cell_type": "markdown",
      "source": [
        "### Data Augmentation"
      ],
      "metadata": {
        "id": "j72jUOYwASMI"
      }
    },
    {
      "cell_type": "code",
      "source": [
        "# Load Hepaptitis Dataset\n",
        "hep_data = hep_load('hepatitis.data')"
      ],
      "metadata": {
        "id": "ZkphU--XAQ95"
      },
      "execution_count": null,
      "outputs": []
    },
    {
      "cell_type": "code",
      "source": [
        "hep_data"
      ],
      "metadata": {
        "colab": {
          "base_uri": "https://localhost:8080/",
          "height": 505
        },
        "id": "QE3zLqHdARAW",
        "outputId": "270ac134-22c5-4358-cd13-5520251c8aea"
      },
      "execution_count": null,
      "outputs": [
        {
          "output_type": "execute_result",
          "data": {
            "text/html": [
              "\n",
              "  <div id=\"df-427df9cb-b0b6-46f1-9050-dfaa1b20e3ac\">\n",
              "    <div class=\"colab-df-container\">\n",
              "      <div>\n",
              "<style scoped>\n",
              "    .dataframe tbody tr th:only-of-type {\n",
              "        vertical-align: middle;\n",
              "    }\n",
              "\n",
              "    .dataframe tbody tr th {\n",
              "        vertical-align: top;\n",
              "    }\n",
              "\n",
              "    .dataframe thead th {\n",
              "        text-align: right;\n",
              "    }\n",
              "</style>\n",
              "<table border=\"1\" class=\"dataframe\">\n",
              "  <thead>\n",
              "    <tr style=\"text-align: right;\">\n",
              "      <th></th>\n",
              "      <th>class</th>\n",
              "      <th>age</th>\n",
              "      <th>sex</th>\n",
              "      <th>steroid</th>\n",
              "      <th>antivirals</th>\n",
              "      <th>fatigue</th>\n",
              "      <th>malaise</th>\n",
              "      <th>anorexia</th>\n",
              "      <th>liver big</th>\n",
              "      <th>liver firm</th>\n",
              "      <th>spleen palpable</th>\n",
              "      <th>spiders</th>\n",
              "      <th>ascites</th>\n",
              "      <th>varices</th>\n",
              "      <th>bilirubin</th>\n",
              "      <th>alk phosphate</th>\n",
              "      <th>sgot</th>\n",
              "      <th>albumin</th>\n",
              "      <th>protime</th>\n",
              "      <th>histology</th>\n",
              "    </tr>\n",
              "  </thead>\n",
              "  <tbody>\n",
              "    <tr>\n",
              "      <th>0</th>\n",
              "      <td>2</td>\n",
              "      <td>30</td>\n",
              "      <td>2</td>\n",
              "      <td>1.0</td>\n",
              "      <td>2</td>\n",
              "      <td>2.0</td>\n",
              "      <td>2.0</td>\n",
              "      <td>2.0</td>\n",
              "      <td>1.0</td>\n",
              "      <td>2.0</td>\n",
              "      <td>2.0</td>\n",
              "      <td>2.0</td>\n",
              "      <td>2.0</td>\n",
              "      <td>2.0</td>\n",
              "      <td>1.0</td>\n",
              "      <td>85.0</td>\n",
              "      <td>18.0</td>\n",
              "      <td>4.0</td>\n",
              "      <td>NaN</td>\n",
              "      <td>1</td>\n",
              "    </tr>\n",
              "    <tr>\n",
              "      <th>1</th>\n",
              "      <td>2</td>\n",
              "      <td>50</td>\n",
              "      <td>1</td>\n",
              "      <td>1.0</td>\n",
              "      <td>2</td>\n",
              "      <td>1.0</td>\n",
              "      <td>2.0</td>\n",
              "      <td>2.0</td>\n",
              "      <td>1.0</td>\n",
              "      <td>2.0</td>\n",
              "      <td>2.0</td>\n",
              "      <td>2.0</td>\n",
              "      <td>2.0</td>\n",
              "      <td>2.0</td>\n",
              "      <td>0.9</td>\n",
              "      <td>135.0</td>\n",
              "      <td>42.0</td>\n",
              "      <td>3.5</td>\n",
              "      <td>NaN</td>\n",
              "      <td>1</td>\n",
              "    </tr>\n",
              "    <tr>\n",
              "      <th>2</th>\n",
              "      <td>2</td>\n",
              "      <td>78</td>\n",
              "      <td>1</td>\n",
              "      <td>2.0</td>\n",
              "      <td>2</td>\n",
              "      <td>1.0</td>\n",
              "      <td>2.0</td>\n",
              "      <td>2.0</td>\n",
              "      <td>2.0</td>\n",
              "      <td>2.0</td>\n",
              "      <td>2.0</td>\n",
              "      <td>2.0</td>\n",
              "      <td>2.0</td>\n",
              "      <td>2.0</td>\n",
              "      <td>0.7</td>\n",
              "      <td>96.0</td>\n",
              "      <td>32.0</td>\n",
              "      <td>4.0</td>\n",
              "      <td>NaN</td>\n",
              "      <td>1</td>\n",
              "    </tr>\n",
              "    <tr>\n",
              "      <th>3</th>\n",
              "      <td>2</td>\n",
              "      <td>31</td>\n",
              "      <td>1</td>\n",
              "      <td>NaN</td>\n",
              "      <td>1</td>\n",
              "      <td>2.0</td>\n",
              "      <td>2.0</td>\n",
              "      <td>2.0</td>\n",
              "      <td>2.0</td>\n",
              "      <td>2.0</td>\n",
              "      <td>2.0</td>\n",
              "      <td>2.0</td>\n",
              "      <td>2.0</td>\n",
              "      <td>2.0</td>\n",
              "      <td>0.7</td>\n",
              "      <td>46.0</td>\n",
              "      <td>52.0</td>\n",
              "      <td>4.0</td>\n",
              "      <td>80.0</td>\n",
              "      <td>1</td>\n",
              "    </tr>\n",
              "    <tr>\n",
              "      <th>4</th>\n",
              "      <td>2</td>\n",
              "      <td>34</td>\n",
              "      <td>1</td>\n",
              "      <td>2.0</td>\n",
              "      <td>2</td>\n",
              "      <td>2.0</td>\n",
              "      <td>2.0</td>\n",
              "      <td>2.0</td>\n",
              "      <td>2.0</td>\n",
              "      <td>2.0</td>\n",
              "      <td>2.0</td>\n",
              "      <td>2.0</td>\n",
              "      <td>2.0</td>\n",
              "      <td>2.0</td>\n",
              "      <td>1.0</td>\n",
              "      <td>NaN</td>\n",
              "      <td>200.0</td>\n",
              "      <td>4.0</td>\n",
              "      <td>NaN</td>\n",
              "      <td>1</td>\n",
              "    </tr>\n",
              "    <tr>\n",
              "      <th>...</th>\n",
              "      <td>...</td>\n",
              "      <td>...</td>\n",
              "      <td>...</td>\n",
              "      <td>...</td>\n",
              "      <td>...</td>\n",
              "      <td>...</td>\n",
              "      <td>...</td>\n",
              "      <td>...</td>\n",
              "      <td>...</td>\n",
              "      <td>...</td>\n",
              "      <td>...</td>\n",
              "      <td>...</td>\n",
              "      <td>...</td>\n",
              "      <td>...</td>\n",
              "      <td>...</td>\n",
              "      <td>...</td>\n",
              "      <td>...</td>\n",
              "      <td>...</td>\n",
              "      <td>...</td>\n",
              "      <td>...</td>\n",
              "    </tr>\n",
              "    <tr>\n",
              "      <th>150</th>\n",
              "      <td>1</td>\n",
              "      <td>46</td>\n",
              "      <td>1</td>\n",
              "      <td>2.0</td>\n",
              "      <td>2</td>\n",
              "      <td>1.0</td>\n",
              "      <td>1.0</td>\n",
              "      <td>1.0</td>\n",
              "      <td>2.0</td>\n",
              "      <td>2.0</td>\n",
              "      <td>2.0</td>\n",
              "      <td>1.0</td>\n",
              "      <td>1.0</td>\n",
              "      <td>1.0</td>\n",
              "      <td>7.6</td>\n",
              "      <td>NaN</td>\n",
              "      <td>242.0</td>\n",
              "      <td>3.3</td>\n",
              "      <td>50.0</td>\n",
              "      <td>2</td>\n",
              "    </tr>\n",
              "    <tr>\n",
              "      <th>151</th>\n",
              "      <td>2</td>\n",
              "      <td>44</td>\n",
              "      <td>1</td>\n",
              "      <td>2.0</td>\n",
              "      <td>2</td>\n",
              "      <td>1.0</td>\n",
              "      <td>2.0</td>\n",
              "      <td>2.0</td>\n",
              "      <td>2.0</td>\n",
              "      <td>1.0</td>\n",
              "      <td>2.0</td>\n",
              "      <td>2.0</td>\n",
              "      <td>2.0</td>\n",
              "      <td>2.0</td>\n",
              "      <td>0.9</td>\n",
              "      <td>126.0</td>\n",
              "      <td>142.0</td>\n",
              "      <td>4.3</td>\n",
              "      <td>NaN</td>\n",
              "      <td>2</td>\n",
              "    </tr>\n",
              "    <tr>\n",
              "      <th>152</th>\n",
              "      <td>2</td>\n",
              "      <td>61</td>\n",
              "      <td>1</td>\n",
              "      <td>1.0</td>\n",
              "      <td>2</td>\n",
              "      <td>1.0</td>\n",
              "      <td>1.0</td>\n",
              "      <td>2.0</td>\n",
              "      <td>1.0</td>\n",
              "      <td>1.0</td>\n",
              "      <td>2.0</td>\n",
              "      <td>1.0</td>\n",
              "      <td>2.0</td>\n",
              "      <td>2.0</td>\n",
              "      <td>0.8</td>\n",
              "      <td>75.0</td>\n",
              "      <td>20.0</td>\n",
              "      <td>4.1</td>\n",
              "      <td>NaN</td>\n",
              "      <td>2</td>\n",
              "    </tr>\n",
              "    <tr>\n",
              "      <th>153</th>\n",
              "      <td>2</td>\n",
              "      <td>53</td>\n",
              "      <td>2</td>\n",
              "      <td>1.0</td>\n",
              "      <td>2</td>\n",
              "      <td>1.0</td>\n",
              "      <td>2.0</td>\n",
              "      <td>2.0</td>\n",
              "      <td>2.0</td>\n",
              "      <td>2.0</td>\n",
              "      <td>1.0</td>\n",
              "      <td>1.0</td>\n",
              "      <td>2.0</td>\n",
              "      <td>1.0</td>\n",
              "      <td>1.5</td>\n",
              "      <td>81.0</td>\n",
              "      <td>19.0</td>\n",
              "      <td>4.1</td>\n",
              "      <td>48.0</td>\n",
              "      <td>2</td>\n",
              "    </tr>\n",
              "    <tr>\n",
              "      <th>154</th>\n",
              "      <td>1</td>\n",
              "      <td>43</td>\n",
              "      <td>1</td>\n",
              "      <td>2.0</td>\n",
              "      <td>2</td>\n",
              "      <td>1.0</td>\n",
              "      <td>2.0</td>\n",
              "      <td>2.0</td>\n",
              "      <td>2.0</td>\n",
              "      <td>2.0</td>\n",
              "      <td>1.0</td>\n",
              "      <td>1.0</td>\n",
              "      <td>1.0</td>\n",
              "      <td>2.0</td>\n",
              "      <td>1.2</td>\n",
              "      <td>100.0</td>\n",
              "      <td>19.0</td>\n",
              "      <td>3.1</td>\n",
              "      <td>42.0</td>\n",
              "      <td>2</td>\n",
              "    </tr>\n",
              "  </tbody>\n",
              "</table>\n",
              "<p>155 rows × 20 columns</p>\n",
              "</div>\n",
              "      <button class=\"colab-df-convert\" onclick=\"convertToInteractive('df-427df9cb-b0b6-46f1-9050-dfaa1b20e3ac')\"\n",
              "              title=\"Convert this dataframe to an interactive table.\"\n",
              "              style=\"display:none;\">\n",
              "        \n",
              "  <svg xmlns=\"http://www.w3.org/2000/svg\" height=\"24px\"viewBox=\"0 0 24 24\"\n",
              "       width=\"24px\">\n",
              "    <path d=\"M0 0h24v24H0V0z\" fill=\"none\"/>\n",
              "    <path d=\"M18.56 5.44l.94 2.06.94-2.06 2.06-.94-2.06-.94-.94-2.06-.94 2.06-2.06.94zm-11 1L8.5 8.5l.94-2.06 2.06-.94-2.06-.94L8.5 2.5l-.94 2.06-2.06.94zm10 10l.94 2.06.94-2.06 2.06-.94-2.06-.94-.94-2.06-.94 2.06-2.06.94z\"/><path d=\"M17.41 7.96l-1.37-1.37c-.4-.4-.92-.59-1.43-.59-.52 0-1.04.2-1.43.59L10.3 9.45l-7.72 7.72c-.78.78-.78 2.05 0 2.83L4 21.41c.39.39.9.59 1.41.59.51 0 1.02-.2 1.41-.59l7.78-7.78 2.81-2.81c.8-.78.8-2.07 0-2.86zM5.41 20L4 18.59l7.72-7.72 1.47 1.35L5.41 20z\"/>\n",
              "  </svg>\n",
              "      </button>\n",
              "      \n",
              "  <style>\n",
              "    .colab-df-container {\n",
              "      display:flex;\n",
              "      flex-wrap:wrap;\n",
              "      gap: 12px;\n",
              "    }\n",
              "\n",
              "    .colab-df-convert {\n",
              "      background-color: #E8F0FE;\n",
              "      border: none;\n",
              "      border-radius: 50%;\n",
              "      cursor: pointer;\n",
              "      display: none;\n",
              "      fill: #1967D2;\n",
              "      height: 32px;\n",
              "      padding: 0 0 0 0;\n",
              "      width: 32px;\n",
              "    }\n",
              "\n",
              "    .colab-df-convert:hover {\n",
              "      background-color: #E2EBFA;\n",
              "      box-shadow: 0px 1px 2px rgba(60, 64, 67, 0.3), 0px 1px 3px 1px rgba(60, 64, 67, 0.15);\n",
              "      fill: #174EA6;\n",
              "    }\n",
              "\n",
              "    [theme=dark] .colab-df-convert {\n",
              "      background-color: #3B4455;\n",
              "      fill: #D2E3FC;\n",
              "    }\n",
              "\n",
              "    [theme=dark] .colab-df-convert:hover {\n",
              "      background-color: #434B5C;\n",
              "      box-shadow: 0px 1px 3px 1px rgba(0, 0, 0, 0.15);\n",
              "      filter: drop-shadow(0px 1px 2px rgba(0, 0, 0, 0.3));\n",
              "      fill: #FFFFFF;\n",
              "    }\n",
              "  </style>\n",
              "\n",
              "      <script>\n",
              "        const buttonEl =\n",
              "          document.querySelector('#df-427df9cb-b0b6-46f1-9050-dfaa1b20e3ac button.colab-df-convert');\n",
              "        buttonEl.style.display =\n",
              "          google.colab.kernel.accessAllowed ? 'block' : 'none';\n",
              "\n",
              "        async function convertToInteractive(key) {\n",
              "          const element = document.querySelector('#df-427df9cb-b0b6-46f1-9050-dfaa1b20e3ac');\n",
              "          const dataTable =\n",
              "            await google.colab.kernel.invokeFunction('convertToInteractive',\n",
              "                                                     [key], {});\n",
              "          if (!dataTable) return;\n",
              "\n",
              "          const docLinkHtml = 'Like what you see? Visit the ' +\n",
              "            '<a target=\"_blank\" href=https://colab.research.google.com/notebooks/data_table.ipynb>data table notebook</a>'\n",
              "            + ' to learn more about interactive tables.';\n",
              "          element.innerHTML = '';\n",
              "          dataTable['output_type'] = 'display_data';\n",
              "          await google.colab.output.renderOutput(dataTable, element);\n",
              "          const docLink = document.createElement('div');\n",
              "          docLink.innerHTML = docLinkHtml;\n",
              "          element.appendChild(docLink);\n",
              "        }\n",
              "      </script>\n",
              "    </div>\n",
              "  </div>\n",
              "  "
            ],
            "text/plain": [
              "     class  age  sex  steroid  ...   sgot  albumin  protime  histology\n",
              "0        2   30    2      1.0  ...   18.0      4.0      NaN          1\n",
              "1        2   50    1      1.0  ...   42.0      3.5      NaN          1\n",
              "2        2   78    1      2.0  ...   32.0      4.0      NaN          1\n",
              "3        2   31    1      NaN  ...   52.0      4.0     80.0          1\n",
              "4        2   34    1      2.0  ...  200.0      4.0      NaN          1\n",
              "..     ...  ...  ...      ...  ...    ...      ...      ...        ...\n",
              "150      1   46    1      2.0  ...  242.0      3.3     50.0          2\n",
              "151      2   44    1      2.0  ...  142.0      4.3      NaN          2\n",
              "152      2   61    1      1.0  ...   20.0      4.1      NaN          2\n",
              "153      2   53    2      1.0  ...   19.0      4.1     48.0          2\n",
              "154      1   43    1      2.0  ...   19.0      3.1     42.0          2\n",
              "\n",
              "[155 rows x 20 columns]"
            ]
          },
          "metadata": {},
          "execution_count": 6
        }
      ]
    },
    {
      "cell_type": "code",
      "source": [
        "numerical_variables = ['age', 'bilirubin', 'protime', 'albumin', 'alk phosphate', 'sgot']"
      ],
      "metadata": {
        "id": "c6bm8nYnBsCm"
      },
      "execution_count": null,
      "outputs": []
    },
    {
      "cell_type": "code",
      "source": [
        "# Fill in using the mean value\n",
        "hep_data[numerical_variables] = hep_data[numerical_variables].fillna(hep_data[numerical_variables].mean())"
      ],
      "metadata": {
        "id": "vCjamfuxARC9"
      },
      "execution_count": null,
      "outputs": []
    },
    {
      "cell_type": "code",
      "source": [
        "categorical_variables = ['sex', 'steroid', 'antivirals', 'fatigue', 'malaise', 'anorexia', 'liver big', 'liver firm', 'spleen palpable', 'spiders', 'ascites', 'varices', 'histology']"
      ],
      "metadata": {
        "id": "FjYyLRuWARFo"
      },
      "execution_count": null,
      "outputs": []
    },
    {
      "cell_type": "code",
      "source": [
        "hep_data[categorical_variables] = hep_data[categorical_variables].fillna(hep_data[categorical_variables].mode())"
      ],
      "metadata": {
        "id": "8tDnH-Q-ARH8"
      },
      "execution_count": null,
      "outputs": []
    },
    {
      "cell_type": "code",
      "source": [
        "hepatitis_df = hep_load('hepatitis.data')"
      ],
      "metadata": {
        "id": "uNxnpqtPGWrM"
      },
      "execution_count": null,
      "outputs": []
    },
    {
      "cell_type": "code",
      "source": [
        "hepatitis_df.head()"
      ],
      "metadata": {
        "colab": {
          "base_uri": "https://localhost:8080/",
          "height": 288
        },
        "id": "OS3EXvy-xoBa",
        "outputId": "f13aa910-5225-4d03-8f3e-2321684bb549"
      },
      "execution_count": null,
      "outputs": [
        {
          "output_type": "execute_result",
          "data": {
            "text/html": [
              "\n",
              "  <div id=\"df-d3ed041f-259a-4f2e-b903-8c2c045ac5d3\">\n",
              "    <div class=\"colab-df-container\">\n",
              "      <div>\n",
              "<style scoped>\n",
              "    .dataframe tbody tr th:only-of-type {\n",
              "        vertical-align: middle;\n",
              "    }\n",
              "\n",
              "    .dataframe tbody tr th {\n",
              "        vertical-align: top;\n",
              "    }\n",
              "\n",
              "    .dataframe thead th {\n",
              "        text-align: right;\n",
              "    }\n",
              "</style>\n",
              "<table border=\"1\" class=\"dataframe\">\n",
              "  <thead>\n",
              "    <tr style=\"text-align: right;\">\n",
              "      <th></th>\n",
              "      <th>class</th>\n",
              "      <th>age</th>\n",
              "      <th>sex</th>\n",
              "      <th>steroid</th>\n",
              "      <th>antivirals</th>\n",
              "      <th>fatigue</th>\n",
              "      <th>malaise</th>\n",
              "      <th>anorexia</th>\n",
              "      <th>liver big</th>\n",
              "      <th>liver firm</th>\n",
              "      <th>spleen palpable</th>\n",
              "      <th>spiders</th>\n",
              "      <th>ascites</th>\n",
              "      <th>varices</th>\n",
              "      <th>bilirubin</th>\n",
              "      <th>alk phosphate</th>\n",
              "      <th>sgot</th>\n",
              "      <th>albumin</th>\n",
              "      <th>protime</th>\n",
              "      <th>histology</th>\n",
              "    </tr>\n",
              "  </thead>\n",
              "  <tbody>\n",
              "    <tr>\n",
              "      <th>0</th>\n",
              "      <td>2</td>\n",
              "      <td>30</td>\n",
              "      <td>2</td>\n",
              "      <td>1.0</td>\n",
              "      <td>2</td>\n",
              "      <td>2.0</td>\n",
              "      <td>2.0</td>\n",
              "      <td>2.0</td>\n",
              "      <td>1.0</td>\n",
              "      <td>2.0</td>\n",
              "      <td>2.0</td>\n",
              "      <td>2.0</td>\n",
              "      <td>2.0</td>\n",
              "      <td>2.0</td>\n",
              "      <td>1.0</td>\n",
              "      <td>85.0</td>\n",
              "      <td>18.0</td>\n",
              "      <td>4.0</td>\n",
              "      <td>NaN</td>\n",
              "      <td>1</td>\n",
              "    </tr>\n",
              "    <tr>\n",
              "      <th>1</th>\n",
              "      <td>2</td>\n",
              "      <td>50</td>\n",
              "      <td>1</td>\n",
              "      <td>1.0</td>\n",
              "      <td>2</td>\n",
              "      <td>1.0</td>\n",
              "      <td>2.0</td>\n",
              "      <td>2.0</td>\n",
              "      <td>1.0</td>\n",
              "      <td>2.0</td>\n",
              "      <td>2.0</td>\n",
              "      <td>2.0</td>\n",
              "      <td>2.0</td>\n",
              "      <td>2.0</td>\n",
              "      <td>0.9</td>\n",
              "      <td>135.0</td>\n",
              "      <td>42.0</td>\n",
              "      <td>3.5</td>\n",
              "      <td>NaN</td>\n",
              "      <td>1</td>\n",
              "    </tr>\n",
              "    <tr>\n",
              "      <th>2</th>\n",
              "      <td>2</td>\n",
              "      <td>78</td>\n",
              "      <td>1</td>\n",
              "      <td>2.0</td>\n",
              "      <td>2</td>\n",
              "      <td>1.0</td>\n",
              "      <td>2.0</td>\n",
              "      <td>2.0</td>\n",
              "      <td>2.0</td>\n",
              "      <td>2.0</td>\n",
              "      <td>2.0</td>\n",
              "      <td>2.0</td>\n",
              "      <td>2.0</td>\n",
              "      <td>2.0</td>\n",
              "      <td>0.7</td>\n",
              "      <td>96.0</td>\n",
              "      <td>32.0</td>\n",
              "      <td>4.0</td>\n",
              "      <td>NaN</td>\n",
              "      <td>1</td>\n",
              "    </tr>\n",
              "    <tr>\n",
              "      <th>3</th>\n",
              "      <td>2</td>\n",
              "      <td>31</td>\n",
              "      <td>1</td>\n",
              "      <td>NaN</td>\n",
              "      <td>1</td>\n",
              "      <td>2.0</td>\n",
              "      <td>2.0</td>\n",
              "      <td>2.0</td>\n",
              "      <td>2.0</td>\n",
              "      <td>2.0</td>\n",
              "      <td>2.0</td>\n",
              "      <td>2.0</td>\n",
              "      <td>2.0</td>\n",
              "      <td>2.0</td>\n",
              "      <td>0.7</td>\n",
              "      <td>46.0</td>\n",
              "      <td>52.0</td>\n",
              "      <td>4.0</td>\n",
              "      <td>80.0</td>\n",
              "      <td>1</td>\n",
              "    </tr>\n",
              "    <tr>\n",
              "      <th>4</th>\n",
              "      <td>2</td>\n",
              "      <td>34</td>\n",
              "      <td>1</td>\n",
              "      <td>2.0</td>\n",
              "      <td>2</td>\n",
              "      <td>2.0</td>\n",
              "      <td>2.0</td>\n",
              "      <td>2.0</td>\n",
              "      <td>2.0</td>\n",
              "      <td>2.0</td>\n",
              "      <td>2.0</td>\n",
              "      <td>2.0</td>\n",
              "      <td>2.0</td>\n",
              "      <td>2.0</td>\n",
              "      <td>1.0</td>\n",
              "      <td>NaN</td>\n",
              "      <td>200.0</td>\n",
              "      <td>4.0</td>\n",
              "      <td>NaN</td>\n",
              "      <td>1</td>\n",
              "    </tr>\n",
              "  </tbody>\n",
              "</table>\n",
              "</div>\n",
              "      <button class=\"colab-df-convert\" onclick=\"convertToInteractive('df-d3ed041f-259a-4f2e-b903-8c2c045ac5d3')\"\n",
              "              title=\"Convert this dataframe to an interactive table.\"\n",
              "              style=\"display:none;\">\n",
              "        \n",
              "  <svg xmlns=\"http://www.w3.org/2000/svg\" height=\"24px\"viewBox=\"0 0 24 24\"\n",
              "       width=\"24px\">\n",
              "    <path d=\"M0 0h24v24H0V0z\" fill=\"none\"/>\n",
              "    <path d=\"M18.56 5.44l.94 2.06.94-2.06 2.06-.94-2.06-.94-.94-2.06-.94 2.06-2.06.94zm-11 1L8.5 8.5l.94-2.06 2.06-.94-2.06-.94L8.5 2.5l-.94 2.06-2.06.94zm10 10l.94 2.06.94-2.06 2.06-.94-2.06-.94-.94-2.06-.94 2.06-2.06.94z\"/><path d=\"M17.41 7.96l-1.37-1.37c-.4-.4-.92-.59-1.43-.59-.52 0-1.04.2-1.43.59L10.3 9.45l-7.72 7.72c-.78.78-.78 2.05 0 2.83L4 21.41c.39.39.9.59 1.41.59.51 0 1.02-.2 1.41-.59l7.78-7.78 2.81-2.81c.8-.78.8-2.07 0-2.86zM5.41 20L4 18.59l7.72-7.72 1.47 1.35L5.41 20z\"/>\n",
              "  </svg>\n",
              "      </button>\n",
              "      \n",
              "  <style>\n",
              "    .colab-df-container {\n",
              "      display:flex;\n",
              "      flex-wrap:wrap;\n",
              "      gap: 12px;\n",
              "    }\n",
              "\n",
              "    .colab-df-convert {\n",
              "      background-color: #E8F0FE;\n",
              "      border: none;\n",
              "      border-radius: 50%;\n",
              "      cursor: pointer;\n",
              "      display: none;\n",
              "      fill: #1967D2;\n",
              "      height: 32px;\n",
              "      padding: 0 0 0 0;\n",
              "      width: 32px;\n",
              "    }\n",
              "\n",
              "    .colab-df-convert:hover {\n",
              "      background-color: #E2EBFA;\n",
              "      box-shadow: 0px 1px 2px rgba(60, 64, 67, 0.3), 0px 1px 3px 1px rgba(60, 64, 67, 0.15);\n",
              "      fill: #174EA6;\n",
              "    }\n",
              "\n",
              "    [theme=dark] .colab-df-convert {\n",
              "      background-color: #3B4455;\n",
              "      fill: #D2E3FC;\n",
              "    }\n",
              "\n",
              "    [theme=dark] .colab-df-convert:hover {\n",
              "      background-color: #434B5C;\n",
              "      box-shadow: 0px 1px 3px 1px rgba(0, 0, 0, 0.15);\n",
              "      filter: drop-shadow(0px 1px 2px rgba(0, 0, 0, 0.3));\n",
              "      fill: #FFFFFF;\n",
              "    }\n",
              "  </style>\n",
              "\n",
              "      <script>\n",
              "        const buttonEl =\n",
              "          document.querySelector('#df-d3ed041f-259a-4f2e-b903-8c2c045ac5d3 button.colab-df-convert');\n",
              "        buttonEl.style.display =\n",
              "          google.colab.kernel.accessAllowed ? 'block' : 'none';\n",
              "\n",
              "        async function convertToInteractive(key) {\n",
              "          const element = document.querySelector('#df-d3ed041f-259a-4f2e-b903-8c2c045ac5d3');\n",
              "          const dataTable =\n",
              "            await google.colab.kernel.invokeFunction('convertToInteractive',\n",
              "                                                     [key], {});\n",
              "          if (!dataTable) return;\n",
              "\n",
              "          const docLinkHtml = 'Like what you see? Visit the ' +\n",
              "            '<a target=\"_blank\" href=https://colab.research.google.com/notebooks/data_table.ipynb>data table notebook</a>'\n",
              "            + ' to learn more about interactive tables.';\n",
              "          element.innerHTML = '';\n",
              "          dataTable['output_type'] = 'display_data';\n",
              "          await google.colab.output.renderOutput(dataTable, element);\n",
              "          const docLink = document.createElement('div');\n",
              "          docLink.innerHTML = docLinkHtml;\n",
              "          element.appendChild(docLink);\n",
              "        }\n",
              "      </script>\n",
              "    </div>\n",
              "  </div>\n",
              "  "
            ],
            "text/plain": [
              "   class  age  sex  steroid  ...   sgot  albumin  protime  histology\n",
              "0      2   30    2      1.0  ...   18.0      4.0      NaN          1\n",
              "1      2   50    1      1.0  ...   42.0      3.5      NaN          1\n",
              "2      2   78    1      2.0  ...   32.0      4.0      NaN          1\n",
              "3      2   31    1      NaN  ...   52.0      4.0     80.0          1\n",
              "4      2   34    1      2.0  ...  200.0      4.0      NaN          1\n",
              "\n",
              "[5 rows x 20 columns]"
            ]
          },
          "metadata": {},
          "execution_count": 13
        }
      ]
    },
    {
      "cell_type": "code",
      "source": [
        "# Listing the columns provided in the dataset\n",
        "hepatitis_df.columns"
      ],
      "metadata": {
        "colab": {
          "base_uri": "https://localhost:8080/"
        },
        "id": "DDAz_v5gteFS",
        "outputId": "1617ead3-8136-42fe-86d3-81f537d67fa0"
      },
      "execution_count": null,
      "outputs": [
        {
          "output_type": "execute_result",
          "data": {
            "text/plain": [
              "Index(['class', 'age', 'sex', 'steroid', 'antivirals', 'fatigue', 'malaise',\n",
              "       'anorexia', 'liver big', 'liver firm', 'spleen palpable', 'spiders',\n",
              "       'ascites', 'varices', 'bilirubin', 'alk phosphate', 'sgot', 'albumin',\n",
              "       'protime', 'histology'],\n",
              "      dtype='object')"
            ]
          },
          "metadata": {},
          "execution_count": 14
        }
      ]
    },
    {
      "cell_type": "code",
      "source": [
        "# Getting the shape => (rows, cols) of the dataset\n",
        "hepatitis_df.shape"
      ],
      "metadata": {
        "colab": {
          "base_uri": "https://localhost:8080/"
        },
        "id": "aDed_PYrtlYc",
        "outputId": "f420f562-b384-40c6-a6d9-7bd92f64263c"
      },
      "execution_count": null,
      "outputs": [
        {
          "output_type": "execute_result",
          "data": {
            "text/plain": [
              "(155, 20)"
            ]
          },
          "metadata": {},
          "execution_count": 15
        }
      ]
    },
    {
      "cell_type": "code",
      "source": [
        "# Check how many null values are there in each of the columns of the dataset.\n",
        "hepatitis_df.isna().sum(axis=0)"
      ],
      "metadata": {
        "colab": {
          "base_uri": "https://localhost:8080/"
        },
        "id": "eWt8zFhLwBa0",
        "outputId": "916ec665-5c8d-44e4-b91b-cd66d246871a"
      },
      "execution_count": null,
      "outputs": [
        {
          "output_type": "execute_result",
          "data": {
            "text/plain": [
              "class               0\n",
              "age                 0\n",
              "sex                 0\n",
              "steroid             1\n",
              "antivirals          0\n",
              "fatigue             1\n",
              "malaise             1\n",
              "anorexia            1\n",
              "liver big          10\n",
              "liver firm         11\n",
              "spleen palpable     5\n",
              "spiders             5\n",
              "ascites             5\n",
              "varices             5\n",
              "bilirubin           6\n",
              "alk phosphate      29\n",
              "sgot                4\n",
              "albumin            16\n",
              "protime            67\n",
              "histology           0\n",
              "dtype: int64"
            ]
          },
          "metadata": {},
          "execution_count": 16
        }
      ]
    },
    {
      "cell_type": "code",
      "source": [
        "# Getting some information for each of the columns in the dataset\n",
        "hepatitis_df.info()"
      ],
      "metadata": {
        "colab": {
          "base_uri": "https://localhost:8080/"
        },
        "id": "avx_zOuLt1nw",
        "outputId": "63ab3720-d79d-495a-b65c-0308089b49f5"
      },
      "execution_count": null,
      "outputs": [
        {
          "output_type": "stream",
          "name": "stdout",
          "text": [
            "<class 'pandas.core.frame.DataFrame'>\n",
            "RangeIndex: 155 entries, 0 to 154\n",
            "Data columns (total 20 columns):\n",
            " #   Column           Non-Null Count  Dtype  \n",
            "---  ------           --------------  -----  \n",
            " 0   class            155 non-null    int64  \n",
            " 1   age              155 non-null    int64  \n",
            " 2   sex              155 non-null    int64  \n",
            " 3   steroid          154 non-null    float64\n",
            " 4   antivirals       155 non-null    int64  \n",
            " 5   fatigue          154 non-null    float64\n",
            " 6   malaise          154 non-null    float64\n",
            " 7   anorexia         154 non-null    float64\n",
            " 8   liver big        145 non-null    float64\n",
            " 9   liver firm       144 non-null    float64\n",
            " 10  spleen palpable  150 non-null    float64\n",
            " 11  spiders          150 non-null    float64\n",
            " 12  ascites          150 non-null    float64\n",
            " 13  varices          150 non-null    float64\n",
            " 14  bilirubin        149 non-null    float64\n",
            " 15  alk phosphate    126 non-null    float64\n",
            " 16  sgot             151 non-null    float64\n",
            " 17  albumin          139 non-null    float64\n",
            " 18  protime          88 non-null     float64\n",
            " 19  histology        155 non-null    int64  \n",
            "dtypes: float64(15), int64(5)\n",
            "memory usage: 24.3 KB\n"
          ]
        }
      ]
    },
    {
      "cell_type": "code",
      "source": [
        "hepatitis_df.describe()"
      ],
      "metadata": {
        "colab": {
          "base_uri": "https://localhost:8080/",
          "height": 382
        },
        "id": "spVCX4zCuOHu",
        "outputId": "88bf8e36-3f71-427f-82e1-2de2a6787ba2"
      },
      "execution_count": null,
      "outputs": [
        {
          "output_type": "execute_result",
          "data": {
            "text/html": [
              "\n",
              "  <div id=\"df-ecf9d6e2-4afe-441b-a985-3e160fa3e9fa\">\n",
              "    <div class=\"colab-df-container\">\n",
              "      <div>\n",
              "<style scoped>\n",
              "    .dataframe tbody tr th:only-of-type {\n",
              "        vertical-align: middle;\n",
              "    }\n",
              "\n",
              "    .dataframe tbody tr th {\n",
              "        vertical-align: top;\n",
              "    }\n",
              "\n",
              "    .dataframe thead th {\n",
              "        text-align: right;\n",
              "    }\n",
              "</style>\n",
              "<table border=\"1\" class=\"dataframe\">\n",
              "  <thead>\n",
              "    <tr style=\"text-align: right;\">\n",
              "      <th></th>\n",
              "      <th>class</th>\n",
              "      <th>age</th>\n",
              "      <th>sex</th>\n",
              "      <th>steroid</th>\n",
              "      <th>antivirals</th>\n",
              "      <th>fatigue</th>\n",
              "      <th>malaise</th>\n",
              "      <th>anorexia</th>\n",
              "      <th>liver big</th>\n",
              "      <th>liver firm</th>\n",
              "      <th>spleen palpable</th>\n",
              "      <th>spiders</th>\n",
              "      <th>ascites</th>\n",
              "      <th>varices</th>\n",
              "      <th>bilirubin</th>\n",
              "      <th>alk phosphate</th>\n",
              "      <th>sgot</th>\n",
              "      <th>albumin</th>\n",
              "      <th>protime</th>\n",
              "      <th>histology</th>\n",
              "    </tr>\n",
              "  </thead>\n",
              "  <tbody>\n",
              "    <tr>\n",
              "      <th>count</th>\n",
              "      <td>155.000000</td>\n",
              "      <td>155.000000</td>\n",
              "      <td>155.000000</td>\n",
              "      <td>154.000000</td>\n",
              "      <td>155.000000</td>\n",
              "      <td>154.000000</td>\n",
              "      <td>154.000000</td>\n",
              "      <td>154.000000</td>\n",
              "      <td>145.000000</td>\n",
              "      <td>144.000000</td>\n",
              "      <td>150.00000</td>\n",
              "      <td>150.000000</td>\n",
              "      <td>150.000000</td>\n",
              "      <td>150.00000</td>\n",
              "      <td>149.000000</td>\n",
              "      <td>126.000000</td>\n",
              "      <td>151.00000</td>\n",
              "      <td>139.000000</td>\n",
              "      <td>88.000000</td>\n",
              "      <td>155.000000</td>\n",
              "    </tr>\n",
              "    <tr>\n",
              "      <th>mean</th>\n",
              "      <td>1.793548</td>\n",
              "      <td>41.200000</td>\n",
              "      <td>1.103226</td>\n",
              "      <td>1.506494</td>\n",
              "      <td>1.845161</td>\n",
              "      <td>1.350649</td>\n",
              "      <td>1.603896</td>\n",
              "      <td>1.792208</td>\n",
              "      <td>1.827586</td>\n",
              "      <td>1.583333</td>\n",
              "      <td>1.80000</td>\n",
              "      <td>1.660000</td>\n",
              "      <td>1.866667</td>\n",
              "      <td>1.88000</td>\n",
              "      <td>1.427517</td>\n",
              "      <td>105.325397</td>\n",
              "      <td>85.89404</td>\n",
              "      <td>3.817266</td>\n",
              "      <td>61.852273</td>\n",
              "      <td>1.451613</td>\n",
              "    </tr>\n",
              "    <tr>\n",
              "      <th>std</th>\n",
              "      <td>0.406070</td>\n",
              "      <td>12.565878</td>\n",
              "      <td>0.305240</td>\n",
              "      <td>0.501589</td>\n",
              "      <td>0.362923</td>\n",
              "      <td>0.478730</td>\n",
              "      <td>0.490682</td>\n",
              "      <td>0.407051</td>\n",
              "      <td>0.379049</td>\n",
              "      <td>0.494727</td>\n",
              "      <td>0.40134</td>\n",
              "      <td>0.475296</td>\n",
              "      <td>0.341073</td>\n",
              "      <td>0.32605</td>\n",
              "      <td>1.212149</td>\n",
              "      <td>51.508109</td>\n",
              "      <td>89.65089</td>\n",
              "      <td>0.651523</td>\n",
              "      <td>22.875244</td>\n",
              "      <td>0.499266</td>\n",
              "    </tr>\n",
              "    <tr>\n",
              "      <th>min</th>\n",
              "      <td>1.000000</td>\n",
              "      <td>7.000000</td>\n",
              "      <td>1.000000</td>\n",
              "      <td>1.000000</td>\n",
              "      <td>1.000000</td>\n",
              "      <td>1.000000</td>\n",
              "      <td>1.000000</td>\n",
              "      <td>1.000000</td>\n",
              "      <td>1.000000</td>\n",
              "      <td>1.000000</td>\n",
              "      <td>1.00000</td>\n",
              "      <td>1.000000</td>\n",
              "      <td>1.000000</td>\n",
              "      <td>1.00000</td>\n",
              "      <td>0.300000</td>\n",
              "      <td>26.000000</td>\n",
              "      <td>14.00000</td>\n",
              "      <td>2.100000</td>\n",
              "      <td>0.000000</td>\n",
              "      <td>1.000000</td>\n",
              "    </tr>\n",
              "    <tr>\n",
              "      <th>25%</th>\n",
              "      <td>2.000000</td>\n",
              "      <td>32.000000</td>\n",
              "      <td>1.000000</td>\n",
              "      <td>1.000000</td>\n",
              "      <td>2.000000</td>\n",
              "      <td>1.000000</td>\n",
              "      <td>1.000000</td>\n",
              "      <td>2.000000</td>\n",
              "      <td>2.000000</td>\n",
              "      <td>1.000000</td>\n",
              "      <td>2.00000</td>\n",
              "      <td>1.000000</td>\n",
              "      <td>2.000000</td>\n",
              "      <td>2.00000</td>\n",
              "      <td>0.700000</td>\n",
              "      <td>74.250000</td>\n",
              "      <td>31.50000</td>\n",
              "      <td>3.400000</td>\n",
              "      <td>46.000000</td>\n",
              "      <td>1.000000</td>\n",
              "    </tr>\n",
              "    <tr>\n",
              "      <th>50%</th>\n",
              "      <td>2.000000</td>\n",
              "      <td>39.000000</td>\n",
              "      <td>1.000000</td>\n",
              "      <td>2.000000</td>\n",
              "      <td>2.000000</td>\n",
              "      <td>1.000000</td>\n",
              "      <td>2.000000</td>\n",
              "      <td>2.000000</td>\n",
              "      <td>2.000000</td>\n",
              "      <td>2.000000</td>\n",
              "      <td>2.00000</td>\n",
              "      <td>2.000000</td>\n",
              "      <td>2.000000</td>\n",
              "      <td>2.00000</td>\n",
              "      <td>1.000000</td>\n",
              "      <td>85.000000</td>\n",
              "      <td>58.00000</td>\n",
              "      <td>4.000000</td>\n",
              "      <td>61.000000</td>\n",
              "      <td>1.000000</td>\n",
              "    </tr>\n",
              "    <tr>\n",
              "      <th>75%</th>\n",
              "      <td>2.000000</td>\n",
              "      <td>50.000000</td>\n",
              "      <td>1.000000</td>\n",
              "      <td>2.000000</td>\n",
              "      <td>2.000000</td>\n",
              "      <td>2.000000</td>\n",
              "      <td>2.000000</td>\n",
              "      <td>2.000000</td>\n",
              "      <td>2.000000</td>\n",
              "      <td>2.000000</td>\n",
              "      <td>2.00000</td>\n",
              "      <td>2.000000</td>\n",
              "      <td>2.000000</td>\n",
              "      <td>2.00000</td>\n",
              "      <td>1.500000</td>\n",
              "      <td>132.250000</td>\n",
              "      <td>100.50000</td>\n",
              "      <td>4.200000</td>\n",
              "      <td>76.250000</td>\n",
              "      <td>2.000000</td>\n",
              "    </tr>\n",
              "    <tr>\n",
              "      <th>max</th>\n",
              "      <td>2.000000</td>\n",
              "      <td>78.000000</td>\n",
              "      <td>2.000000</td>\n",
              "      <td>2.000000</td>\n",
              "      <td>2.000000</td>\n",
              "      <td>2.000000</td>\n",
              "      <td>2.000000</td>\n",
              "      <td>2.000000</td>\n",
              "      <td>2.000000</td>\n",
              "      <td>2.000000</td>\n",
              "      <td>2.00000</td>\n",
              "      <td>2.000000</td>\n",
              "      <td>2.000000</td>\n",
              "      <td>2.00000</td>\n",
              "      <td>8.000000</td>\n",
              "      <td>295.000000</td>\n",
              "      <td>648.00000</td>\n",
              "      <td>6.400000</td>\n",
              "      <td>100.000000</td>\n",
              "      <td>2.000000</td>\n",
              "    </tr>\n",
              "  </tbody>\n",
              "</table>\n",
              "</div>\n",
              "      <button class=\"colab-df-convert\" onclick=\"convertToInteractive('df-ecf9d6e2-4afe-441b-a985-3e160fa3e9fa')\"\n",
              "              title=\"Convert this dataframe to an interactive table.\"\n",
              "              style=\"display:none;\">\n",
              "        \n",
              "  <svg xmlns=\"http://www.w3.org/2000/svg\" height=\"24px\"viewBox=\"0 0 24 24\"\n",
              "       width=\"24px\">\n",
              "    <path d=\"M0 0h24v24H0V0z\" fill=\"none\"/>\n",
              "    <path d=\"M18.56 5.44l.94 2.06.94-2.06 2.06-.94-2.06-.94-.94-2.06-.94 2.06-2.06.94zm-11 1L8.5 8.5l.94-2.06 2.06-.94-2.06-.94L8.5 2.5l-.94 2.06-2.06.94zm10 10l.94 2.06.94-2.06 2.06-.94-2.06-.94-.94-2.06-.94 2.06-2.06.94z\"/><path d=\"M17.41 7.96l-1.37-1.37c-.4-.4-.92-.59-1.43-.59-.52 0-1.04.2-1.43.59L10.3 9.45l-7.72 7.72c-.78.78-.78 2.05 0 2.83L4 21.41c.39.39.9.59 1.41.59.51 0 1.02-.2 1.41-.59l7.78-7.78 2.81-2.81c.8-.78.8-2.07 0-2.86zM5.41 20L4 18.59l7.72-7.72 1.47 1.35L5.41 20z\"/>\n",
              "  </svg>\n",
              "      </button>\n",
              "      \n",
              "  <style>\n",
              "    .colab-df-container {\n",
              "      display:flex;\n",
              "      flex-wrap:wrap;\n",
              "      gap: 12px;\n",
              "    }\n",
              "\n",
              "    .colab-df-convert {\n",
              "      background-color: #E8F0FE;\n",
              "      border: none;\n",
              "      border-radius: 50%;\n",
              "      cursor: pointer;\n",
              "      display: none;\n",
              "      fill: #1967D2;\n",
              "      height: 32px;\n",
              "      padding: 0 0 0 0;\n",
              "      width: 32px;\n",
              "    }\n",
              "\n",
              "    .colab-df-convert:hover {\n",
              "      background-color: #E2EBFA;\n",
              "      box-shadow: 0px 1px 2px rgba(60, 64, 67, 0.3), 0px 1px 3px 1px rgba(60, 64, 67, 0.15);\n",
              "      fill: #174EA6;\n",
              "    }\n",
              "\n",
              "    [theme=dark] .colab-df-convert {\n",
              "      background-color: #3B4455;\n",
              "      fill: #D2E3FC;\n",
              "    }\n",
              "\n",
              "    [theme=dark] .colab-df-convert:hover {\n",
              "      background-color: #434B5C;\n",
              "      box-shadow: 0px 1px 3px 1px rgba(0, 0, 0, 0.15);\n",
              "      filter: drop-shadow(0px 1px 2px rgba(0, 0, 0, 0.3));\n",
              "      fill: #FFFFFF;\n",
              "    }\n",
              "  </style>\n",
              "\n",
              "      <script>\n",
              "        const buttonEl =\n",
              "          document.querySelector('#df-ecf9d6e2-4afe-441b-a985-3e160fa3e9fa button.colab-df-convert');\n",
              "        buttonEl.style.display =\n",
              "          google.colab.kernel.accessAllowed ? 'block' : 'none';\n",
              "\n",
              "        async function convertToInteractive(key) {\n",
              "          const element = document.querySelector('#df-ecf9d6e2-4afe-441b-a985-3e160fa3e9fa');\n",
              "          const dataTable =\n",
              "            await google.colab.kernel.invokeFunction('convertToInteractive',\n",
              "                                                     [key], {});\n",
              "          if (!dataTable) return;\n",
              "\n",
              "          const docLinkHtml = 'Like what you see? Visit the ' +\n",
              "            '<a target=\"_blank\" href=https://colab.research.google.com/notebooks/data_table.ipynb>data table notebook</a>'\n",
              "            + ' to learn more about interactive tables.';\n",
              "          element.innerHTML = '';\n",
              "          dataTable['output_type'] = 'display_data';\n",
              "          await google.colab.output.renderOutput(dataTable, element);\n",
              "          const docLink = document.createElement('div');\n",
              "          docLink.innerHTML = docLinkHtml;\n",
              "          element.appendChild(docLink);\n",
              "        }\n",
              "      </script>\n",
              "    </div>\n",
              "  </div>\n",
              "  "
            ],
            "text/plain": [
              "            class         age         sex  ...     albumin     protime   histology\n",
              "count  155.000000  155.000000  155.000000  ...  139.000000   88.000000  155.000000\n",
              "mean     1.793548   41.200000    1.103226  ...    3.817266   61.852273    1.451613\n",
              "std      0.406070   12.565878    0.305240  ...    0.651523   22.875244    0.499266\n",
              "min      1.000000    7.000000    1.000000  ...    2.100000    0.000000    1.000000\n",
              "25%      2.000000   32.000000    1.000000  ...    3.400000   46.000000    1.000000\n",
              "50%      2.000000   39.000000    1.000000  ...    4.000000   61.000000    1.000000\n",
              "75%      2.000000   50.000000    1.000000  ...    4.200000   76.250000    2.000000\n",
              "max      2.000000   78.000000    2.000000  ...    6.400000  100.000000    2.000000\n",
              "\n",
              "[8 rows x 20 columns]"
            ]
          },
          "metadata": {},
          "execution_count": 18
        }
      ]
    },
    {
      "cell_type": "code",
      "source": [
        "# Class Distribution Plot\n",
        "fig = plt.figure(figsize=(15,6))\n",
        "plot = sns.countplot(x='class', data=hepatitis_df, hue='class', ax = fig.add_subplot(1,2,1))\n",
        "plot.set_title('Class Distribution of Hepatitis Dataset')"
      ],
      "metadata": {
        "colab": {
          "base_uri": "https://localhost:8080/",
          "height": 421
        },
        "id": "u9-xkaauwBo4",
        "outputId": "1462dd8a-824d-4feb-902d-115b74cfb68a"
      },
      "execution_count": null,
      "outputs": [
        {
          "output_type": "execute_result",
          "data": {
            "text/plain": [
              "Text(0.5, 1.0, 'Class Distribution of Hepatitis Dataset')"
            ]
          },
          "metadata": {},
          "execution_count": 116
        },
        {
          "output_type": "display_data",
          "data": {
            "image/png": "[encoded data removed]",
            "text/plain": [
              "<Figure size 1080x432 with 1 Axes>"
            ]
          },
          "metadata": {
            "needs_background": "light"
          }
        }
      ]
    },
    {
      "cell_type": "code",
      "source": [
        "#correlation between data\n",
        "hepatitis_df_corr = hepatitis_df.corr()\n",
        "plot_corr = sns.clustermap(data = hepatitis_df_corr,\n",
        "                           metric=\"correlation\",\n",
        "                           annot=True,\n",
        "                           )\n",
        "plot_corr.ax_heatmap.set_yticklabels(plot_corr.ax_heatmap.get_yticklabels(),\n",
        "                                     rotation=0)"
      ],
      "metadata": {
        "colab": {
          "base_uri": "https://localhost:8080/",
          "height": 1000
        },
        "id": "slkgQxpOwBrx",
        "outputId": "a8493dc6-1879-47d9-9ada-f354aeac5b29"
      },
      "execution_count": null,
      "outputs": [
        {
          "output_type": "execute_result",
          "data": {
            "text/plain": [
              "[Text(1, 0.5, 'age'),\n",
              " Text(1, 1.5, 'sgot'),\n",
              " Text(1, 2.5, 'antivirals'),\n",
              " Text(1, 3.5, 'alk phosphate'),\n",
              " Text(1, 4.5, 'bilirubin'),\n",
              " Text(1, 5.5, 'histology'),\n",
              " Text(1, 6.5, 'sex'),\n",
              " Text(1, 7.5, 'spleen palpable'),\n",
              " Text(1, 8.5, 'anorexia'),\n",
              " Text(1, 9.5, 'fatigue'),\n",
              " Text(1, 10.5, 'malaise'),\n",
              " Text(1, 11.5, 'protime'),\n",
              " Text(1, 12.5, 'ascites'),\n",
              " Text(1, 13.5, 'class'),\n",
              " Text(1, 14.5, 'albumin'),\n",
              " Text(1, 15.5, 'spiders'),\n",
              " Text(1, 16.5, 'varices'),\n",
              " Text(1, 17.5, 'steroid'),\n",
              " Text(1, 18.5, 'liver big'),\n",
              " Text(1, 19.5, 'liver firm')]"
            ]
          },
          "metadata": {},
          "execution_count": 19
        },
        {
          "output_type": "display_data",
          "data": {
            "image/png": "[encoded data removed]",
            "text/plain": [
              "<Figure size 720x720 with 4 Axes>"
            ]
          },
          "metadata": {
            "needs_background": "light"
          }
        }
      ]
    },
    {
      "cell_type": "code",
      "source": [
        "#Another way of plotting heatmap\n",
        "hepatitis_df_corr = hepatitis_df.corr()\n",
        "plot_corr = sns.heatmap(hepatitis_df_corr,\n",
        "                        xticklabels=hepatitis_df_corr.columns,\n",
        "                        yticklabels=hepatitis_df_corr.columns,\n",
        "                        cmap='coolwarm')\n",
        "plot_corr.set_title('Correlation Heatmap Hepatitis Dataset') "
      ],
      "metadata": {
        "colab": {
          "base_uri": "https://localhost:8080/",
          "height": 367
        },
        "id": "9QlujvENvLPk",
        "outputId": "98119c37-d780-4d07-b48c-be1fde44db22"
      },
      "execution_count": null,
      "outputs": [
        {
          "output_type": "execute_result",
          "data": {
            "text/plain": [
              "Text(0.5, 1.0, 'Correlation Heatmap Hepatitis Dataset')"
            ]
          },
          "metadata": {},
          "execution_count": 20
        },
        {
          "output_type": "display_data",
          "data": {
            "image/png": "[encoded data removed]",
            "text/plain": [
              "<Figure size 432x288 with 2 Axes>"
            ]
          },
          "metadata": {
            "needs_background": "light"
          }
        }
      ]
    },
    {
      "cell_type": "code",
      "source": [
        "# Reference - https://stackoverflow.com/questions/17778394/list-highest-correlation-pairs-from-a-large-correlation-matrix-in-pandas\n",
        "def get_redundant_pairs(df):\n",
        "    '''Get diagonal and lower triangular pairs of correlation matrix'''\n",
        "    pairs_to_drop = set()\n",
        "    cols = df.columns\n",
        "    for i in range(0, df.shape[1]):\n",
        "        for j in range(0, i+1):\n",
        "            pairs_to_drop.add((cols[i], cols[j]))\n",
        "    return pairs_to_drop\n",
        "\n",
        "def get_top_abs_correlations(df, n=5):\n",
        "    au_corr = df.corr().abs().unstack()\n",
        "    labels_to_drop = get_redundant_pairs(df)\n",
        "    au_corr = au_corr.drop(labels=labels_to_drop).sort_values(ascending=False)\n",
        "    return au_corr[0:n]\n",
        "\n",
        "print(\"Top Absolute Correlations\")\n",
        "print(get_top_abs_correlations(hepatitis_df, 5))"
      ],
      "metadata": {
        "colab": {
          "base_uri": "https://localhost:8080/"
        },
        "id": "uLjoo60WFf-j",
        "outputId": "a686b26b-2ed7-4a4b-cf55-7b96b6d4fc4b"
      },
      "execution_count": null,
      "outputs": [
        {
          "output_type": "stream",
          "name": "stdout",
          "text": [
            "Top Absolute Correlations\n",
            "malaise  anorexia    0.599647\n",
            "fatigue  malaise     0.595142\n",
            "ascites  albumin     0.549335\n",
            "class    albumin     0.503272\n",
            "         ascites     0.477882\n",
            "dtype: float64\n"
          ]
        }
      ]
    },
    {
      "cell_type": "code",
      "source": [
        "hepatitis_df_corr"
      ],
      "metadata": {
        "colab": {
          "base_uri": "https://localhost:8080/",
          "height": 793
        },
        "id": "DikEUiObyGnf",
        "outputId": "4dcbcc9a-bb2a-45dd-f959-371465d97ea1"
      },
      "execution_count": null,
      "outputs": [
        {
          "output_type": "execute_result",
          "data": {
            "text/html": [
              "\n",
              "  <div id=\"df-94afd3c4-cfd1-4fbe-8ff7-20a63d4dd769\">\n",
              "    <div class=\"colab-df-container\">\n",
              "      <div>\n",
              "<style scoped>\n",
              "    .dataframe tbody tr th:only-of-type {\n",
              "        vertical-align: middle;\n",
              "    }\n",
              "\n",
              "    .dataframe tbody tr th {\n",
              "        vertical-align: top;\n",
              "    }\n",
              "\n",
              "    .dataframe thead th {\n",
              "        text-align: right;\n",
              "    }\n",
              "</style>\n",
              "<table border=\"1\" class=\"dataframe\">\n",
              "  <thead>\n",
              "    <tr style=\"text-align: right;\">\n",
              "      <th></th>\n",
              "      <th>class</th>\n",
              "      <th>age</th>\n",
              "      <th>sex</th>\n",
              "      <th>steroid</th>\n",
              "      <th>antivirals</th>\n",
              "      <th>fatigue</th>\n",
              "      <th>malaise</th>\n",
              "      <th>anorexia</th>\n",
              "      <th>liver big</th>\n",
              "      <th>liver firm</th>\n",
              "      <th>spleen palpable</th>\n",
              "      <th>spiders</th>\n",
              "      <th>ascites</th>\n",
              "      <th>varices</th>\n",
              "      <th>bilirubin</th>\n",
              "      <th>alk phosphate</th>\n",
              "      <th>sgot</th>\n",
              "      <th>albumin</th>\n",
              "      <th>protime</th>\n",
              "      <th>histology</th>\n",
              "    </tr>\n",
              "  </thead>\n",
              "  <tbody>\n",
              "    <tr>\n",
              "      <th>class</th>\n",
              "      <td>1.000000</td>\n",
              "      <td>-0.219647</td>\n",
              "      <td>0.173051</td>\n",
              "      <td>0.134700</td>\n",
              "      <td>-0.130196</td>\n",
              "      <td>0.309269</td>\n",
              "      <td>0.337859</td>\n",
              "      <td>0.132172</td>\n",
              "      <td>-0.077630</td>\n",
              "      <td>0.063155</td>\n",
              "      <td>0.238734</td>\n",
              "      <td>0.398308</td>\n",
              "      <td>0.477882</td>\n",
              "      <td>0.368846</td>\n",
              "      <td>-0.463752</td>\n",
              "      <td>-0.161204</td>\n",
              "      <td>-0.077678</td>\n",
              "      <td>0.503272</td>\n",
              "      <td>0.409160</td>\n",
              "      <td>-0.337856</td>\n",
              "    </tr>\n",
              "    <tr>\n",
              "      <th>age</th>\n",
              "      <td>-0.219647</td>\n",
              "      <td>1.000000</td>\n",
              "      <td>0.008126</td>\n",
              "      <td>-0.085732</td>\n",
              "      <td>-0.013100</td>\n",
              "      <td>-0.282223</td>\n",
              "      <td>-0.115236</td>\n",
              "      <td>0.090394</td>\n",
              "      <td>-0.105480</td>\n",
              "      <td>-0.109382</td>\n",
              "      <td>-0.074853</td>\n",
              "      <td>-0.179997</td>\n",
              "      <td>-0.066220</td>\n",
              "      <td>-0.048893</td>\n",
              "      <td>0.125463</td>\n",
              "      <td>0.008924</td>\n",
              "      <td>0.082545</td>\n",
              "      <td>-0.262981</td>\n",
              "      <td>-0.222233</td>\n",
              "      <td>0.170780</td>\n",
              "    </tr>\n",
              "    <tr>\n",
              "      <th>sex</th>\n",
              "      <td>0.173051</td>\n",
              "      <td>0.008126</td>\n",
              "      <td>1.000000</td>\n",
              "      <td>-0.046989</td>\n",
              "      <td>-0.089249</td>\n",
              "      <td>-0.071822</td>\n",
              "      <td>-0.028820</td>\n",
              "      <td>0.017030</td>\n",
              "      <td>-0.072336</td>\n",
              "      <td>-0.059761</td>\n",
              "      <td>-0.055556</td>\n",
              "      <td>-0.042220</td>\n",
              "      <td>0.130744</td>\n",
              "      <td>0.054707</td>\n",
              "      <td>-0.056349</td>\n",
              "      <td>0.074243</td>\n",
              "      <td>-0.017652</td>\n",
              "      <td>0.005828</td>\n",
              "      <td>-0.011141</td>\n",
              "      <td>-0.137450</td>\n",
              "    </tr>\n",
              "    <tr>\n",
              "      <th>steroid</th>\n",
              "      <td>0.134700</td>\n",
              "      <td>-0.085732</td>\n",
              "      <td>-0.046989</td>\n",
              "      <td>1.000000</td>\n",
              "      <td>0.060101</td>\n",
              "      <td>0.164326</td>\n",
              "      <td>0.242942</td>\n",
              "      <td>0.074380</td>\n",
              "      <td>0.214488</td>\n",
              "      <td>0.086463</td>\n",
              "      <td>0.077071</td>\n",
              "      <td>0.028675</td>\n",
              "      <td>-0.031453</td>\n",
              "      <td>-0.074925</td>\n",
              "      <td>-0.050240</td>\n",
              "      <td>-0.040164</td>\n",
              "      <td>-0.042458</td>\n",
              "      <td>0.228148</td>\n",
              "      <td>0.102978</td>\n",
              "      <td>-0.090109</td>\n",
              "    </tr>\n",
              "    <tr>\n",
              "      <th>antivirals</th>\n",
              "      <td>-0.130196</td>\n",
              "      <td>-0.013100</td>\n",
              "      <td>-0.089249</td>\n",
              "      <td>0.060101</td>\n",
              "      <td>1.000000</td>\n",
              "      <td>-0.059445</td>\n",
              "      <td>-0.018540</td>\n",
              "      <td>-0.043552</td>\n",
              "      <td>0.042350</td>\n",
              "      <td>0.075593</td>\n",
              "      <td>-0.172756</td>\n",
              "      <td>-0.159695</td>\n",
              "      <td>-0.171184</td>\n",
              "      <td>-0.161165</td>\n",
              "      <td>0.185023</td>\n",
              "      <td>0.205236</td>\n",
              "      <td>0.108138</td>\n",
              "      <td>-0.170074</td>\n",
              "      <td>-0.030287</td>\n",
              "      <td>0.209242</td>\n",
              "    </tr>\n",
              "    <tr>\n",
              "      <th>fatigue</th>\n",
              "      <td>0.309269</td>\n",
              "      <td>-0.282223</td>\n",
              "      <td>-0.071822</td>\n",
              "      <td>0.164326</td>\n",
              "      <td>-0.059445</td>\n",
              "      <td>1.000000</td>\n",
              "      <td>0.595142</td>\n",
              "      <td>0.376350</td>\n",
              "      <td>0.112892</td>\n",
              "      <td>0.272435</td>\n",
              "      <td>0.195256</td>\n",
              "      <td>0.383333</td>\n",
              "      <td>0.289931</td>\n",
              "      <td>0.187125</td>\n",
              "      <td>-0.278918</td>\n",
              "      <td>-0.165744</td>\n",
              "      <td>-0.202089</td>\n",
              "      <td>0.328319</td>\n",
              "      <td>0.279844</td>\n",
              "      <td>-0.151556</td>\n",
              "    </tr>\n",
              "    <tr>\n",
              "      <th>malaise</th>\n",
              "      <td>0.337859</td>\n",
              "      <td>-0.115236</td>\n",
              "      <td>-0.028820</td>\n",
              "      <td>0.242942</td>\n",
              "      <td>-0.018540</td>\n",
              "      <td>0.595142</td>\n",
              "      <td>1.000000</td>\n",
              "      <td>0.599647</td>\n",
              "      <td>0.057090</td>\n",
              "      <td>0.118382</td>\n",
              "      <td>0.013690</td>\n",
              "      <td>0.325979</td>\n",
              "      <td>0.332910</td>\n",
              "      <td>0.170193</td>\n",
              "      <td>-0.299602</td>\n",
              "      <td>-0.215880</td>\n",
              "      <td>-0.205128</td>\n",
              "      <td>0.307685</td>\n",
              "      <td>0.263691</td>\n",
              "      <td>-0.140592</td>\n",
              "    </tr>\n",
              "    <tr>\n",
              "      <th>anorexia</th>\n",
              "      <td>0.132172</td>\n",
              "      <td>0.090394</td>\n",
              "      <td>0.017030</td>\n",
              "      <td>0.074380</td>\n",
              "      <td>-0.043552</td>\n",
              "      <td>0.376350</td>\n",
              "      <td>0.599647</td>\n",
              "      <td>1.000000</td>\n",
              "      <td>0.091287</td>\n",
              "      <td>0.067320</td>\n",
              "      <td>0.041667</td>\n",
              "      <td>0.309614</td>\n",
              "      <td>0.196116</td>\n",
              "      <td>0.174380</td>\n",
              "      <td>-0.303109</td>\n",
              "      <td>-0.181680</td>\n",
              "      <td>-0.238408</td>\n",
              "      <td>0.163661</td>\n",
              "      <td>0.063001</td>\n",
              "      <td>-0.078895</td>\n",
              "    </tr>\n",
              "    <tr>\n",
              "      <th>liver big</th>\n",
              "      <td>-0.077630</td>\n",
              "      <td>-0.105480</td>\n",
              "      <td>-0.072336</td>\n",
              "      <td>0.214488</td>\n",
              "      <td>0.042350</td>\n",
              "      <td>0.112892</td>\n",
              "      <td>0.057090</td>\n",
              "      <td>0.091287</td>\n",
              "      <td>1.000000</td>\n",
              "      <td>0.467950</td>\n",
              "      <td>0.099083</td>\n",
              "      <td>0.220389</td>\n",
              "      <td>-0.110876</td>\n",
              "      <td>-0.062366</td>\n",
              "      <td>-0.002392</td>\n",
              "      <td>-0.130565</td>\n",
              "      <td>0.043023</td>\n",
              "      <td>-0.057578</td>\n",
              "      <td>-0.089997</td>\n",
              "      <td>-0.072269</td>\n",
              "    </tr>\n",
              "    <tr>\n",
              "      <th>liver firm</th>\n",
              "      <td>0.063155</td>\n",
              "      <td>-0.109382</td>\n",
              "      <td>-0.059761</td>\n",
              "      <td>0.086463</td>\n",
              "      <td>0.075593</td>\n",
              "      <td>0.272435</td>\n",
              "      <td>0.118382</td>\n",
              "      <td>0.067320</td>\n",
              "      <td>0.467950</td>\n",
              "      <td>1.000000</td>\n",
              "      <td>0.187541</td>\n",
              "      <td>0.355901</td>\n",
              "      <td>0.037966</td>\n",
              "      <td>0.189999</td>\n",
              "      <td>-0.060703</td>\n",
              "      <td>-0.356068</td>\n",
              "      <td>-0.138305</td>\n",
              "      <td>0.199022</td>\n",
              "      <td>0.056773</td>\n",
              "      <td>-0.191663</td>\n",
              "    </tr>\n",
              "    <tr>\n",
              "      <th>spleen palpable</th>\n",
              "      <td>0.238734</td>\n",
              "      <td>-0.074853</td>\n",
              "      <td>-0.055556</td>\n",
              "      <td>0.077071</td>\n",
              "      <td>-0.172756</td>\n",
              "      <td>0.195256</td>\n",
              "      <td>0.013690</td>\n",
              "      <td>0.041667</td>\n",
              "      <td>0.099083</td>\n",
              "      <td>0.187541</td>\n",
              "      <td>1.000000</td>\n",
              "      <td>0.274430</td>\n",
              "      <td>0.098058</td>\n",
              "      <td>0.225668</td>\n",
              "      <td>-0.220918</td>\n",
              "      <td>-0.287592</td>\n",
              "      <td>-0.002040</td>\n",
              "      <td>0.244432</td>\n",
              "      <td>0.158683</td>\n",
              "      <td>-0.207331</td>\n",
              "    </tr>\n",
              "    <tr>\n",
              "      <th>spiders</th>\n",
              "      <td>0.398308</td>\n",
              "      <td>-0.179997</td>\n",
              "      <td>-0.042220</td>\n",
              "      <td>0.028675</td>\n",
              "      <td>-0.159695</td>\n",
              "      <td>0.383333</td>\n",
              "      <td>0.325979</td>\n",
              "      <td>0.309614</td>\n",
              "      <td>0.220389</td>\n",
              "      <td>0.355901</td>\n",
              "      <td>0.274430</td>\n",
              "      <td>1.000000</td>\n",
              "      <td>0.298081</td>\n",
              "      <td>0.384573</td>\n",
              "      <td>-0.292789</td>\n",
              "      <td>-0.301574</td>\n",
              "      <td>-0.121296</td>\n",
              "      <td>0.319635</td>\n",
              "      <td>0.304143</td>\n",
              "      <td>-0.354094</td>\n",
              "    </tr>\n",
              "    <tr>\n",
              "      <th>ascites</th>\n",
              "      <td>0.477882</td>\n",
              "      <td>-0.066220</td>\n",
              "      <td>0.130744</td>\n",
              "      <td>-0.031453</td>\n",
              "      <td>-0.171184</td>\n",
              "      <td>0.289931</td>\n",
              "      <td>0.332910</td>\n",
              "      <td>0.196116</td>\n",
              "      <td>-0.110876</td>\n",
              "      <td>0.037966</td>\n",
              "      <td>0.098058</td>\n",
              "      <td>0.298081</td>\n",
              "      <td>1.000000</td>\n",
              "      <td>0.337963</td>\n",
              "      <td>-0.304034</td>\n",
              "      <td>-0.145667</td>\n",
              "      <td>0.020863</td>\n",
              "      <td>0.549335</td>\n",
              "      <td>0.345192</td>\n",
              "      <td>-0.346274</td>\n",
              "    </tr>\n",
              "    <tr>\n",
              "      <th>varices</th>\n",
              "      <td>0.368846</td>\n",
              "      <td>-0.048893</td>\n",
              "      <td>0.054707</td>\n",
              "      <td>-0.074925</td>\n",
              "      <td>-0.161165</td>\n",
              "      <td>0.187125</td>\n",
              "      <td>0.170193</td>\n",
              "      <td>0.174380</td>\n",
              "      <td>-0.062366</td>\n",
              "      <td>0.189999</td>\n",
              "      <td>0.225668</td>\n",
              "      <td>0.384573</td>\n",
              "      <td>0.337963</td>\n",
              "      <td>1.000000</td>\n",
              "      <td>-0.405719</td>\n",
              "      <td>-0.307588</td>\n",
              "      <td>-0.030698</td>\n",
              "      <td>0.356660</td>\n",
              "      <td>0.294250</td>\n",
              "      <td>-0.358936</td>\n",
              "    </tr>\n",
              "    <tr>\n",
              "      <th>bilirubin</th>\n",
              "      <td>-0.463752</td>\n",
              "      <td>0.125463</td>\n",
              "      <td>-0.056349</td>\n",
              "      <td>-0.050240</td>\n",
              "      <td>0.185023</td>\n",
              "      <td>-0.278918</td>\n",
              "      <td>-0.299602</td>\n",
              "      <td>-0.303109</td>\n",
              "      <td>-0.002392</td>\n",
              "      <td>-0.060703</td>\n",
              "      <td>-0.220918</td>\n",
              "      <td>-0.292789</td>\n",
              "      <td>-0.304034</td>\n",
              "      <td>-0.405719</td>\n",
              "      <td>1.000000</td>\n",
              "      <td>0.220062</td>\n",
              "      <td>0.232967</td>\n",
              "      <td>-0.377318</td>\n",
              "      <td>-0.302608</td>\n",
              "      <td>0.262428</td>\n",
              "    </tr>\n",
              "    <tr>\n",
              "      <th>alk phosphate</th>\n",
              "      <td>-0.161204</td>\n",
              "      <td>0.008924</td>\n",
              "      <td>0.074243</td>\n",
              "      <td>-0.040164</td>\n",
              "      <td>0.205236</td>\n",
              "      <td>-0.165744</td>\n",
              "      <td>-0.215880</td>\n",
              "      <td>-0.181680</td>\n",
              "      <td>-0.130565</td>\n",
              "      <td>-0.356068</td>\n",
              "      <td>-0.287592</td>\n",
              "      <td>-0.301574</td>\n",
              "      <td>-0.145667</td>\n",
              "      <td>-0.307588</td>\n",
              "      <td>0.220062</td>\n",
              "      <td>1.000000</td>\n",
              "      <td>0.239581</td>\n",
              "      <td>-0.403857</td>\n",
              "      <td>-0.226846</td>\n",
              "      <td>0.284914</td>\n",
              "    </tr>\n",
              "    <tr>\n",
              "      <th>sgot</th>\n",
              "      <td>-0.077678</td>\n",
              "      <td>0.082545</td>\n",
              "      <td>-0.017652</td>\n",
              "      <td>-0.042458</td>\n",
              "      <td>0.108138</td>\n",
              "      <td>-0.202089</td>\n",
              "      <td>-0.205128</td>\n",
              "      <td>-0.238408</td>\n",
              "      <td>0.043023</td>\n",
              "      <td>-0.138305</td>\n",
              "      <td>-0.002040</td>\n",
              "      <td>-0.121296</td>\n",
              "      <td>0.020863</td>\n",
              "      <td>-0.030698</td>\n",
              "      <td>0.232967</td>\n",
              "      <td>0.239581</td>\n",
              "      <td>1.000000</td>\n",
              "      <td>-0.136276</td>\n",
              "      <td>-0.189149</td>\n",
              "      <td>0.131125</td>\n",
              "    </tr>\n",
              "    <tr>\n",
              "      <th>albumin</th>\n",
              "      <td>0.503272</td>\n",
              "      <td>-0.262981</td>\n",
              "      <td>0.005828</td>\n",
              "      <td>0.228148</td>\n",
              "      <td>-0.170074</td>\n",
              "      <td>0.328319</td>\n",
              "      <td>0.307685</td>\n",
              "      <td>0.163661</td>\n",
              "      <td>-0.057578</td>\n",
              "      <td>0.199022</td>\n",
              "      <td>0.244432</td>\n",
              "      <td>0.319635</td>\n",
              "      <td>0.549335</td>\n",
              "      <td>0.356660</td>\n",
              "      <td>-0.377318</td>\n",
              "      <td>-0.403857</td>\n",
              "      <td>-0.136276</td>\n",
              "      <td>1.000000</td>\n",
              "      <td>0.424419</td>\n",
              "      <td>-0.324751</td>\n",
              "    </tr>\n",
              "    <tr>\n",
              "      <th>protime</th>\n",
              "      <td>0.409160</td>\n",
              "      <td>-0.222233</td>\n",
              "      <td>-0.011141</td>\n",
              "      <td>0.102978</td>\n",
              "      <td>-0.030287</td>\n",
              "      <td>0.279844</td>\n",
              "      <td>0.263691</td>\n",
              "      <td>0.063001</td>\n",
              "      <td>-0.089997</td>\n",
              "      <td>0.056773</td>\n",
              "      <td>0.158683</td>\n",
              "      <td>0.304143</td>\n",
              "      <td>0.345192</td>\n",
              "      <td>0.294250</td>\n",
              "      <td>-0.302608</td>\n",
              "      <td>-0.226846</td>\n",
              "      <td>-0.189149</td>\n",
              "      <td>0.424419</td>\n",
              "      <td>1.000000</td>\n",
              "      <td>-0.312062</td>\n",
              "    </tr>\n",
              "    <tr>\n",
              "      <th>histology</th>\n",
              "      <td>-0.337856</td>\n",
              "      <td>0.170780</td>\n",
              "      <td>-0.137450</td>\n",
              "      <td>-0.090109</td>\n",
              "      <td>0.209242</td>\n",
              "      <td>-0.151556</td>\n",
              "      <td>-0.140592</td>\n",
              "      <td>-0.078895</td>\n",
              "      <td>-0.072269</td>\n",
              "      <td>-0.191663</td>\n",
              "      <td>-0.207331</td>\n",
              "      <td>-0.354094</td>\n",
              "      <td>-0.346274</td>\n",
              "      <td>-0.358936</td>\n",
              "      <td>0.262428</td>\n",
              "      <td>0.284914</td>\n",
              "      <td>0.131125</td>\n",
              "      <td>-0.324751</td>\n",
              "      <td>-0.312062</td>\n",
              "      <td>1.000000</td>\n",
              "    </tr>\n",
              "  </tbody>\n",
              "</table>\n",
              "</div>\n",
              "      <button class=\"colab-df-convert\" onclick=\"convertToInteractive('df-94afd3c4-cfd1-4fbe-8ff7-20a63d4dd769')\"\n",
              "              title=\"Convert this dataframe to an interactive table.\"\n",
              "              style=\"display:none;\">\n",
              "        \n",
              "  <svg xmlns=\"http://www.w3.org/2000/svg\" height=\"24px\"viewBox=\"0 0 24 24\"\n",
              "       width=\"24px\">\n",
              "    <path d=\"M0 0h24v24H0V0z\" fill=\"none\"/>\n",
              "    <path d=\"M18.56 5.44l.94 2.06.94-2.06 2.06-.94-2.06-.94-.94-2.06-.94 2.06-2.06.94zm-11 1L8.5 8.5l.94-2.06 2.06-.94-2.06-.94L8.5 2.5l-.94 2.06-2.06.94zm10 10l.94 2.06.94-2.06 2.06-.94-2.06-.94-.94-2.06-.94 2.06-2.06.94z\"/><path d=\"M17.41 7.96l-1.37-1.37c-.4-.4-.92-.59-1.43-.59-.52 0-1.04.2-1.43.59L10.3 9.45l-7.72 7.72c-.78.78-.78 2.05 0 2.83L4 21.41c.39.39.9.59 1.41.59.51 0 1.02-.2 1.41-.59l7.78-7.78 2.81-2.81c.8-.78.8-2.07 0-2.86zM5.41 20L4 18.59l7.72-7.72 1.47 1.35L5.41 20z\"/>\n",
              "  </svg>\n",
              "      </button>\n",
              "      \n",
              "  <style>\n",
              "    .colab-df-container {\n",
              "      display:flex;\n",
              "      flex-wrap:wrap;\n",
              "      gap: 12px;\n",
              "    }\n",
              "\n",
              "    .colab-df-convert {\n",
              "      background-color: #E8F0FE;\n",
              "      border: none;\n",
              "      border-radius: 50%;\n",
              "      cursor: pointer;\n",
              "      display: none;\n",
              "      fill: #1967D2;\n",
              "      height: 32px;\n",
              "      padding: 0 0 0 0;\n",
              "      width: 32px;\n",
              "    }\n",
              "\n",
              "    .colab-df-convert:hover {\n",
              "      background-color: #E2EBFA;\n",
              "      box-shadow: 0px 1px 2px rgba(60, 64, 67, 0.3), 0px 1px 3px 1px rgba(60, 64, 67, 0.15);\n",
              "      fill: #174EA6;\n",
              "    }\n",
              "\n",
              "    [theme=dark] .colab-df-convert {\n",
              "      background-color: #3B4455;\n",
              "      fill: #D2E3FC;\n",
              "    }\n",
              "\n",
              "    [theme=dark] .colab-df-convert:hover {\n",
              "      background-color: #434B5C;\n",
              "      box-shadow: 0px 1px 3px 1px rgba(0, 0, 0, 0.15);\n",
              "      filter: drop-shadow(0px 1px 2px rgba(0, 0, 0, 0.3));\n",
              "      fill: #FFFFFF;\n",
              "    }\n",
              "  </style>\n",
              "\n",
              "      <script>\n",
              "        const buttonEl =\n",
              "          document.querySelector('#df-94afd3c4-cfd1-4fbe-8ff7-20a63d4dd769 button.colab-df-convert');\n",
              "        buttonEl.style.display =\n",
              "          google.colab.kernel.accessAllowed ? 'block' : 'none';\n",
              "\n",
              "        async function convertToInteractive(key) {\n",
              "          const element = document.querySelector('#df-94afd3c4-cfd1-4fbe-8ff7-20a63d4dd769');\n",
              "          const dataTable =\n",
              "            await google.colab.kernel.invokeFunction('convertToInteractive',\n",
              "                                                     [key], {});\n",
              "          if (!dataTable) return;\n",
              "\n",
              "          const docLinkHtml = 'Like what you see? Visit the ' +\n",
              "            '<a target=\"_blank\" href=https://colab.research.google.com/notebooks/data_table.ipynb>data table notebook</a>'\n",
              "            + ' to learn more about interactive tables.';\n",
              "          element.innerHTML = '';\n",
              "          dataTable['output_type'] = 'display_data';\n",
              "          await google.colab.output.renderOutput(dataTable, element);\n",
              "          const docLink = document.createElement('div');\n",
              "          docLink.innerHTML = docLinkHtml;\n",
              "          element.appendChild(docLink);\n",
              "        }\n",
              "      </script>\n",
              "    </div>\n",
              "  </div>\n",
              "  "
            ],
            "text/plain": [
              "                    class       age       sex  ...   albumin   protime  histology\n",
              "class            1.000000 -0.219647  0.173051  ...  0.503272  0.409160  -0.337856\n",
              "age             -0.219647  1.000000  0.008126  ... -0.262981 -0.222233   0.170780\n",
              "sex              0.173051  0.008126  1.000000  ...  0.005828 -0.011141  -0.137450\n",
              "steroid          0.134700 -0.085732 -0.046989  ...  0.228148  0.102978  -0.090109\n",
              "antivirals      -0.130196 -0.013100 -0.089249  ... -0.170074 -0.030287   0.209242\n",
              "fatigue          0.309269 -0.282223 -0.071822  ...  0.328319  0.279844  -0.151556\n",
              "malaise          0.337859 -0.115236 -0.028820  ...  0.307685  0.263691  -0.140592\n",
              "anorexia         0.132172  0.090394  0.017030  ...  0.163661  0.063001  -0.078895\n",
              "liver big       -0.077630 -0.105480 -0.072336  ... -0.057578 -0.089997  -0.072269\n",
              "liver firm       0.063155 -0.109382 -0.059761  ...  0.199022  0.056773  -0.191663\n",
              "spleen palpable  0.238734 -0.074853 -0.055556  ...  0.244432  0.158683  -0.207331\n",
              "spiders          0.398308 -0.179997 -0.042220  ...  0.319635  0.304143  -0.354094\n",
              "ascites          0.477882 -0.066220  0.130744  ...  0.549335  0.345192  -0.346274\n",
              "varices          0.368846 -0.048893  0.054707  ...  0.356660  0.294250  -0.358936\n",
              "bilirubin       -0.463752  0.125463 -0.056349  ... -0.377318 -0.302608   0.262428\n",
              "alk phosphate   -0.161204  0.008924  0.074243  ... -0.403857 -0.226846   0.284914\n",
              "sgot            -0.077678  0.082545 -0.017652  ... -0.136276 -0.189149   0.131125\n",
              "albumin          0.503272 -0.262981  0.005828  ...  1.000000  0.424419  -0.324751\n",
              "protime          0.409160 -0.222233 -0.011141  ...  0.424419  1.000000  -0.312062\n",
              "histology       -0.337856  0.170780 -0.137450  ... -0.324751 -0.312062   1.000000\n",
              "\n",
              "[20 rows x 20 columns]"
            ]
          },
          "metadata": {},
          "execution_count": 22
        }
      ]
    },
    {
      "cell_type": "code",
      "source": [
        "hepatitis_df.drop(\"protime\", axis = 1, inplace=True)\n",
        "hepatitis_df.shape"
      ],
      "metadata": {
        "colab": {
          "base_uri": "https://localhost:8080/"
        },
        "id": "pW2AifDdyX12",
        "outputId": "31968306-4323-47be-c142-62eb8aa1bcc8"
      },
      "execution_count": null,
      "outputs": [
        {
          "output_type": "execute_result",
          "data": {
            "text/plain": [
              "(155, 19)"
            ]
          },
          "metadata": {},
          "execution_count": 23
        }
      ]
    },
    {
      "cell_type": "code",
      "source": [
        "# sns.pairplot(hepatitis_df, diag_kind='kde', hue=\"class\")"
      ],
      "metadata": {
        "id": "naGzGnZywBvF"
      },
      "execution_count": null,
      "outputs": []
    },
    {
      "cell_type": "code",
      "source": [
        "plt.figure(figsize=(20, 10))\n",
        "sns.displot(hepatitis_df.age, bins=40)\n",
        "\n",
        "#it shows that most of the people have age between 25-50 (approx.)\n",
        "# maximum age = 36-38 and 50-55. Only few people with age <=30 and age>=62 suffer from hepatitis."
      ],
      "metadata": {
        "colab": {
          "base_uri": "https://localhost:8080/",
          "height": 404
        },
        "id": "z-_qeRNZy6Ed",
        "outputId": "747d7f8b-a8bb-47ca-98e9-641fcdc8722a"
      },
      "execution_count": null,
      "outputs": [
        {
          "output_type": "execute_result",
          "data": {
            "text/plain": [
              "<seaborn.axisgrid.FacetGrid at 0x7f8185cea790>"
            ]
          },
          "metadata": {},
          "execution_count": 26
        },
        {
          "output_type": "display_data",
          "data": {
            "text/plain": [
              "<Figure size 1440x720 with 0 Axes>"
            ]
          },
          "metadata": {}
        },
        {
          "output_type": "display_data",
          "data": {
            "image/png": "[encoded data removed]",
            "text/plain": [
              "<Figure size 360x360 with 1 Axes>"
            ]
          },
          "metadata": {
            "needs_background": "light"
          }
        }
      ]
    },
    {
      "cell_type": "code",
      "source": [
        "# Various Plots for Checking the Bilirubin distribution for various integer values\n",
        "plt.figure(figsize=(20, 10))\n",
        "sns.displot(hepatitis_df.bilirubin, bins=40)\n",
        "\n",
        "# This indicate that people with lower bilirubin (0-2) are more prone to hepatitis."
      ],
      "metadata": {
        "colab": {
          "base_uri": "https://localhost:8080/",
          "height": 404
        },
        "id": "g0yL9Kutz63V",
        "outputId": "c5ec0d87-28c3-4571-d11e-548e7e376a04"
      },
      "execution_count": null,
      "outputs": [
        {
          "output_type": "execute_result",
          "data": {
            "text/plain": [
              "<seaborn.axisgrid.FacetGrid at 0x7f8185ccdf50>"
            ]
          },
          "metadata": {},
          "execution_count": 27
        },
        {
          "output_type": "display_data",
          "data": {
            "text/plain": [
              "<Figure size 1440x720 with 0 Axes>"
            ]
          },
          "metadata": {}
        },
        {
          "output_type": "display_data",
          "data": {
            "image/png": "[encoded data removed]",
            "text/plain": [
              "<Figure size 360x360 with 1 Axes>"
            ]
          },
          "metadata": {
            "needs_background": "light"
          }
        }
      ]
    },
    {
      "cell_type": "code",
      "source": [
        "# Plot for checking the SGOT distribution\n",
        "\n",
        "plt.figure(figsize=(20, 10))\n",
        "sns.displot(hepatitis_df.sgot, bins=40)"
      ],
      "metadata": {
        "colab": {
          "base_uri": "https://localhost:8080/",
          "height": 404
        },
        "id": "lceWQhUu0XzI",
        "outputId": "7af20201-abf3-42ef-c8a4-7b16361b23f5"
      },
      "execution_count": null,
      "outputs": [
        {
          "output_type": "execute_result",
          "data": {
            "text/plain": [
              "<seaborn.axisgrid.FacetGrid at 0x7f8185aee950>"
            ]
          },
          "metadata": {},
          "execution_count": 28
        },
        {
          "output_type": "display_data",
          "data": {
            "text/plain": [
              "<Figure size 1440x720 with 0 Axes>"
            ]
          },
          "metadata": {}
        },
        {
          "output_type": "display_data",
          "data": {
            "image/png": "[encoded data removed]",
            "text/plain": [
              "<Figure size 360x360 with 1 Axes>"
            ]
          },
          "metadata": {
            "needs_background": "light"
          }
        }
      ]
    },
    {
      "cell_type": "code",
      "source": [
        "plt.figure(figsize=(20, 10))\n",
        "sns.displot(hepatitis_df['alk phosphate'], bins=40)\n",
        "\n",
        "# This implies that Maximum people have alkaline phosphate value of 80-100"
      ],
      "metadata": {
        "colab": {
          "base_uri": "https://localhost:8080/",
          "height": 404
        },
        "id": "GTs1fAly0kcd",
        "outputId": "54e185f7-8958-4fce-951d-e50e31e719de"
      },
      "execution_count": null,
      "outputs": [
        {
          "output_type": "execute_result",
          "data": {
            "text/plain": [
              "<seaborn.axisgrid.FacetGrid at 0x7f8185a3bbd0>"
            ]
          },
          "metadata": {},
          "execution_count": 29
        },
        {
          "output_type": "display_data",
          "data": {
            "text/plain": [
              "<Figure size 1440x720 with 0 Axes>"
            ]
          },
          "metadata": {}
        },
        {
          "output_type": "display_data",
          "data": {
            "image/png": "[encoded data removed]",
            "text/plain": [
              "<Figure size 360x360 with 1 Axes>"
            ]
          },
          "metadata": {
            "needs_background": "light"
          }
        }
      ]
    },
    {
      "cell_type": "code",
      "source": [
        "# Gender distribution\n",
        "px.histogram(hepatitis_df.sex)\n",
        "\n",
        "#This implies that most of the people in the given dataset are female and Females are more prone to Hepatitis as compared to Males"
      ],
      "metadata": {
        "colab": {
          "base_uri": "https://localhost:8080/",
          "height": 542
        },
        "id": "dN4cAVX91Cok",
        "outputId": "5e4753a8-a06c-4e6b-86ce-ed6f1e7d3a5e"
      },
      "execution_count": null,
      "outputs": [
        {
          "output_type": "display_data",
          "data": {
            "text/html": [
              "<html>\n",
              "<head><meta charset=\"utf-8\" /></head>\n",
              "<body>\n",
              "    <div>            <script src=\"https://cdnjs.cloudflare.com/ajax/libs/mathjax/2.7.5/MathJax.js?config=TeX-AMS-MML_SVG\"></script><script type=\"text/javascript\">if (window.MathJax) {MathJax.Hub.Config({SVG: {font: \"STIX-Web\"}});}</script>                <script type=\"text/javascript\">window.PlotlyConfig = {MathJaxConfig: 'local'};</script>\n",
              "        <script src=\"https://cdn.plot.ly/plotly-2.8.3.min.js\"></script>                <div id=\"42d4dd88-5d6d-4b94-abd1-7dbaba0efcb7\" class=\"plotly-graph-div\" style=\"height:525px; width:100%;\"></div>            <script type=\"text/javascript\">                                    window.PLOTLYENV=window.PLOTLYENV || {};                                    if (document.getElementById(\"42d4dd88-5d6d-4b94-abd1-7dbaba0efcb7\")) {                    Plotly.newPlot(                        \"42d4dd88-5d6d-4b94-abd1-7dbaba0efcb7\",                        [{\"alignmentgroup\":\"True\",\"bingroup\":\"x\",\"hovertemplate\":\"variable=sex<br>value=%{x}<br>count=%{y}<extra></extra>\",\"legendgroup\":\"sex\",\"marker\":{\"color\":\"#636efa\",\"pattern\":{\"shape\":\"\"}},\"name\":\"sex\",\"offsetgroup\":\"sex\",\"orientation\":\"v\",\"showlegend\":true,\"x\":[2,1,1,1,1,1,1,1,1,1,1,1,1,1,1,1,1,1,1,1,2,1,1,1,2,1,1,2,1,1,1,1,2,2,1,1,1,2,1,1,1,1,1,1,1,1,1,2,1,1,1,1,1,1,1,1,1,1,1,2,1,1,1,1,1,1,1,1,1,1,1,1,1,1,1,1,1,2,1,1,1,1,1,2,2,1,1,1,1,1,2,1,1,1,1,1,1,1,1,1,1,1,1,1,1,1,1,1,1,1,1,1,1,1,1,2,1,1,1,1,1,1,1,1,1,2,1,1,1,1,1,1,1,1,1,1,1,1,1,1,1,1,1,1,1,1,1,1,1,1,1,1,1,2,1],\"xaxis\":\"x\",\"yaxis\":\"y\",\"type\":\"histogram\"}],                        {\"template\":{\"data\":{\"bar\":[{\"error_x\":{\"color\":\"#2a3f5f\"},\"error_y\":{\"color\":\"#2a3f5f\"},\"marker\":{\"line\":{\"color\":\"#E5ECF6\",\"width\":0.5},\"pattern\":{\"fillmode\":\"overlay\",\"size\":10,\"solidity\":0.2}},\"type\":\"bar\"}],\"barpolar\":[{\"marker\":{\"line\":{\"color\":\"#E5ECF6\",\"width\":0.5},\"pattern\":{\"fillmode\":\"overlay\",\"size\":10,\"solidity\":0.2}},\"type\":\"barpolar\"}],\"carpet\":[{\"aaxis\":{\"endlinecolor\":\"#2a3f5f\",\"gridcolor\":\"white\",\"linecolor\":\"white\",\"minorgridcolor\":\"white\",\"startlinecolor\":\"#2a3f5f\"},\"baxis\":{\"endlinecolor\":\"#2a3f5f\",\"gridcolor\":\"white\",\"linecolor\":\"white\",\"minorgridcolor\":\"white\",\"startlinecolor\":\"#2a3f5f\"},\"type\":\"carpet\"}],\"choropleth\":[{\"colorbar\":{\"outlinewidth\":0,\"ticks\":\"\"},\"type\":\"choropleth\"}],\"contour\":[{\"colorbar\":{\"outlinewidth\":0,\"ticks\":\"\"},\"colorscale\":[[0.0,\"#0d0887\"],[0.1111111111111111,\"#46039f\"],[0.2222222222222222,\"#7201a8\"],[0.3333333333333333,\"#9c179e\"],[0.4444444444444444,\"#bd3786\"],[0.5555555555555556,\"#d8576b\"],[0.6666666666666666,\"#ed7953\"],[0.7777777777777778,\"#fb9f3a\"],[0.8888888888888888,\"#fdca26\"],[1.0,\"#f0f921\"]],\"type\":\"contour\"}],\"contourcarpet\":[{\"colorbar\":{\"outlinewidth\":0,\"ticks\":\"\"},\"type\":\"contourcarpet\"}],\"heatmap\":[{\"colorbar\":{\"outlinewidth\":0,\"ticks\":\"\"},\"colorscale\":[[0.0,\"#0d0887\"],[0.1111111111111111,\"#46039f\"],[0.2222222222222222,\"#7201a8\"],[0.3333333333333333,\"#9c179e\"],[0.4444444444444444,\"#bd3786\"],[0.5555555555555556,\"#d8576b\"],[0.6666666666666666,\"#ed7953\"],[0.7777777777777778,\"#fb9f3a\"],[0.8888888888888888,\"#fdca26\"],[1.0,\"#f0f921\"]],\"type\":\"heatmap\"}],\"heatmapgl\":[{\"colorbar\":{\"outlinewidth\":0,\"ticks\":\"\"},\"colorscale\":[[0.0,\"#0d0887\"],[0.1111111111111111,\"#46039f\"],[0.2222222222222222,\"#7201a8\"],[0.3333333333333333,\"#9c179e\"],[0.4444444444444444,\"#bd3786\"],[0.5555555555555556,\"#d8576b\"],[0.6666666666666666,\"#ed7953\"],[0.7777777777777778,\"#fb9f3a\"],[0.8888888888888888,\"#fdca26\"],[1.0,\"#f0f921\"]],\"type\":\"heatmapgl\"}],\"histogram\":[{\"marker\":{\"pattern\":{\"fillmode\":\"overlay\",\"size\":10,\"solidity\":0.2}},\"type\":\"histogram\"}],\"histogram2d\":[{\"colorbar\":{\"outlinewidth\":0,\"ticks\":\"\"},\"colorscale\":[[0.0,\"#0d0887\"],[0.1111111111111111,\"#46039f\"],[0.2222222222222222,\"#7201a8\"],[0.3333333333333333,\"#9c179e\"],[0.4444444444444444,\"#bd3786\"],[0.5555555555555556,\"#d8576b\"],[0.6666666666666666,\"#ed7953\"],[0.7777777777777778,\"#fb9f3a\"],[0.8888888888888888,\"#fdca26\"],[1.0,\"#f0f921\"]],\"type\":\"histogram2d\"}],\"histogram2dcontour\":[{\"colorbar\":{\"outlinewidth\":0,\"ticks\":\"\"},\"colorscale\":[[0.0,\"#0d0887\"],[0.1111111111111111,\"#46039f\"],[0.2222222222222222,\"#7201a8\"],[0.3333333333333333,\"#9c179e\"],[0.4444444444444444,\"#bd3786\"],[0.5555555555555556,\"#d8576b\"],[0.6666666666666666,\"#ed7953\"],[0.7777777777777778,\"#fb9f3a\"],[0.8888888888888888,\"#fdca26\"],[1.0,\"#f0f921\"]],\"type\":\"histogram2dcontour\"}],\"mesh3d\":[{\"colorbar\":{\"outlinewidth\":0,\"ticks\":\"\"},\"type\":\"mesh3d\"}],\"parcoords\":[{\"line\":{\"colorbar\":{\"outlinewidth\":0,\"ticks\":\"\"}},\"type\":\"parcoords\"}],\"pie\":[{\"automargin\":true,\"type\":\"pie\"}],\"scatter\":[{\"marker\":{\"colorbar\":{\"outlinewidth\":0,\"ticks\":\"\"}},\"type\":\"scatter\"}],\"scatter3d\":[{\"line\":{\"colorbar\":{\"outlinewidth\":0,\"ticks\":\"\"}},\"marker\":{\"colorbar\":{\"outlinewidth\":0,\"ticks\":\"\"}},\"type\":\"scatter3d\"}],\"scattercarpet\":[{\"marker\":{\"colorbar\":{\"outlinewidth\":0,\"ticks\":\"\"}},\"type\":\"scattercarpet\"}],\"scattergeo\":[{\"marker\":{\"colorbar\":{\"outlinewidth\":0,\"ticks\":\"\"}},\"type\":\"scattergeo\"}],\"scattergl\":[{\"marker\":{\"colorbar\":{\"outlinewidth\":0,\"ticks\":\"\"}},\"type\":\"scattergl\"}],\"scattermapbox\":[{\"marker\":{\"colorbar\":{\"outlinewidth\":0,\"ticks\":\"\"}},\"type\":\"scattermapbox\"}],\"scatterpolar\":[{\"marker\":{\"colorbar\":{\"outlinewidth\":0,\"ticks\":\"\"}},\"type\":\"scatterpolar\"}],\"scatterpolargl\":[{\"marker\":{\"colorbar\":{\"outlinewidth\":0,\"ticks\":\"\"}},\"type\":\"scatterpolargl\"}],\"scatterternary\":[{\"marker\":{\"colorbar\":{\"outlinewidth\":0,\"ticks\":\"\"}},\"type\":\"scatterternary\"}],\"surface\":[{\"colorbar\":{\"outlinewidth\":0,\"ticks\":\"\"},\"colorscale\":[[0.0,\"#0d0887\"],[0.1111111111111111,\"#46039f\"],[0.2222222222222222,\"#7201a8\"],[0.3333333333333333,\"#9c179e\"],[0.4444444444444444,\"#bd3786\"],[0.5555555555555556,\"#d8576b\"],[0.6666666666666666,\"#ed7953\"],[0.7777777777777778,\"#fb9f3a\"],[0.8888888888888888,\"#fdca26\"],[1.0,\"#f0f921\"]],\"type\":\"surface\"}],\"table\":[{\"cells\":{\"fill\":{\"color\":\"#EBF0F8\"},\"line\":{\"color\":\"white\"}},\"header\":{\"fill\":{\"color\":\"#C8D4E3\"},\"line\":{\"color\":\"white\"}},\"type\":\"table\"}]},\"layout\":{\"annotationdefaults\":{\"arrowcolor\":\"#2a3f5f\",\"arrowhead\":0,\"arrowwidth\":1},\"autotypenumbers\":\"strict\",\"coloraxis\":{\"colorbar\":{\"outlinewidth\":0,\"ticks\":\"\"}},\"colorscale\":{\"diverging\":[[0,\"#8e0152\"],[0.1,\"#c51b7d\"],[0.2,\"#de77ae\"],[0.3,\"#f1b6da\"],[0.4,\"#fde0ef\"],[0.5,\"#f7f7f7\"],[0.6,\"#e6f5d0\"],[0.7,\"#b8e186\"],[0.8,\"#7fbc41\"],[0.9,\"#4d9221\"],[1,\"#276419\"]],\"sequential\":[[0.0,\"#0d0887\"],[0.1111111111111111,\"#46039f\"],[0.2222222222222222,\"#7201a8\"],[0.3333333333333333,\"#9c179e\"],[0.4444444444444444,\"#bd3786\"],[0.5555555555555556,\"#d8576b\"],[0.6666666666666666,\"#ed7953\"],[0.7777777777777778,\"#fb9f3a\"],[0.8888888888888888,\"#fdca26\"],[1.0,\"#f0f921\"]],\"sequentialminus\":[[0.0,\"#0d0887\"],[0.1111111111111111,\"#46039f\"],[0.2222222222222222,\"#7201a8\"],[0.3333333333333333,\"#9c179e\"],[0.4444444444444444,\"#bd3786\"],[0.5555555555555556,\"#d8576b\"],[0.6666666666666666,\"#ed7953\"],[0.7777777777777778,\"#fb9f3a\"],[0.8888888888888888,\"#fdca26\"],[1.0,\"#f0f921\"]]},\"colorway\":[\"#636efa\",\"#EF553B\",\"#00cc96\",\"#ab63fa\",\"#FFA15A\",\"#19d3f3\",\"#FF6692\",\"#B6E880\",\"#FF97FF\",\"#FECB52\"],\"font\":{\"color\":\"#2a3f5f\"},\"geo\":{\"bgcolor\":\"white\",\"lakecolor\":\"white\",\"landcolor\":\"#E5ECF6\",\"showlakes\":true,\"showland\":true,\"subunitcolor\":\"white\"},\"hoverlabel\":{\"align\":\"left\"},\"hovermode\":\"closest\",\"mapbox\":{\"style\":\"light\"},\"paper_bgcolor\":\"white\",\"plot_bgcolor\":\"#E5ECF6\",\"polar\":{\"angularaxis\":{\"gridcolor\":\"white\",\"linecolor\":\"white\",\"ticks\":\"\"},\"bgcolor\":\"#E5ECF6\",\"radialaxis\":{\"gridcolor\":\"white\",\"linecolor\":\"white\",\"ticks\":\"\"}},\"scene\":{\"xaxis\":{\"backgroundcolor\":\"#E5ECF6\",\"gridcolor\":\"white\",\"gridwidth\":2,\"linecolor\":\"white\",\"showbackground\":true,\"ticks\":\"\",\"zerolinecolor\":\"white\"},\"yaxis\":{\"backgroundcolor\":\"#E5ECF6\",\"gridcolor\":\"white\",\"gridwidth\":2,\"linecolor\":\"white\",\"showbackground\":true,\"ticks\":\"\",\"zerolinecolor\":\"white\"},\"zaxis\":{\"backgroundcolor\":\"#E5ECF6\",\"gridcolor\":\"white\",\"gridwidth\":2,\"linecolor\":\"white\",\"showbackground\":true,\"ticks\":\"\",\"zerolinecolor\":\"white\"}},\"shapedefaults\":{\"line\":{\"color\":\"#2a3f5f\"}},\"ternary\":{\"aaxis\":{\"gridcolor\":\"white\",\"linecolor\":\"white\",\"ticks\":\"\"},\"baxis\":{\"gridcolor\":\"white\",\"linecolor\":\"white\",\"ticks\":\"\"},\"bgcolor\":\"#E5ECF6\",\"caxis\":{\"gridcolor\":\"white\",\"linecolor\":\"white\",\"ticks\":\"\"}},\"title\":{\"x\":0.05},\"xaxis\":{\"automargin\":true,\"gridcolor\":\"white\",\"linecolor\":\"white\",\"ticks\":\"\",\"title\":{\"standoff\":15},\"zerolinecolor\":\"white\",\"zerolinewidth\":2},\"yaxis\":{\"automargin\":true,\"gridcolor\":\"white\",\"linecolor\":\"white\",\"ticks\":\"\",\"title\":{\"standoff\":15},\"zerolinecolor\":\"white\",\"zerolinewidth\":2}}},\"xaxis\":{\"anchor\":\"y\",\"domain\":[0.0,1.0],\"title\":{\"text\":\"value\"}},\"yaxis\":{\"anchor\":\"x\",\"domain\":[0.0,1.0],\"title\":{\"text\":\"count\"}},\"legend\":{\"title\":{\"text\":\"variable\"},\"tracegroupgap\":0},\"margin\":{\"t\":60},\"barmode\":\"relative\"},                        {\"responsive\": true}                    ).then(function(){\n",
              "                            \n",
              "var gd = document.getElementById('42d4dd88-5d6d-4b94-abd1-7dbaba0efcb7');\n",
              "var x = new MutationObserver(function (mutations, observer) {{\n",
              "        var display = window.getComputedStyle(gd).display;\n",
              "        if (!display || display === 'none') {{\n",
              "            console.log([gd, 'removed!']);\n",
              "            Plotly.purge(gd);\n",
              "            observer.disconnect();\n",
              "        }}\n",
              "}});\n",
              "\n",
              "// Listen for the removal of the full notebook cells\n",
              "var notebookContainer = gd.closest('#notebook-container');\n",
              "if (notebookContainer) {{\n",
              "    x.observe(notebookContainer, {childList: true});\n",
              "}}\n",
              "\n",
              "// Listen for the clearing of the current output cell\n",
              "var outputEl = gd.closest('.output');\n",
              "if (outputEl) {{\n",
              "    x.observe(outputEl, {childList: true});\n",
              "}}\n",
              "\n",
              "                        })                };                            </script>        </div>\n",
              "</body>\n",
              "</html>"
            ]
          },
          "metadata": {}
        }
      ]
    },
    {
      "cell_type": "code",
      "source": [
        "px.histogram(hepatitis_df['class'])"
      ],
      "metadata": {
        "colab": {
          "base_uri": "https://localhost:8080/",
          "height": 542
        },
        "id": "PuAee7mp1UDO",
        "outputId": "59a63f18-bfcb-4dc3-cf42-f25a20b78a76"
      },
      "execution_count": null,
      "outputs": [
        {
          "output_type": "display_data",
          "data": {
            "text/html": [
              "<html>\n",
              "<head><meta charset=\"utf-8\" /></head>\n",
              "<body>\n",
              "    <div>            <script src=\"https://cdnjs.cloudflare.com/ajax/libs/mathjax/2.7.5/MathJax.js?config=TeX-AMS-MML_SVG\"></script><script type=\"text/javascript\">if (window.MathJax) {MathJax.Hub.Config({SVG: {font: \"STIX-Web\"}});}</script>                <script type=\"text/javascript\">window.PlotlyConfig = {MathJaxConfig: 'local'};</script>\n",
              "        <script src=\"https://cdn.plot.ly/plotly-2.8.3.min.js\"></script>                <div id=\"c35bcc3e-caa2-4e2b-aa8d-8cbde148fed2\" class=\"plotly-graph-div\" style=\"height:525px; width:100%;\"></div>            <script type=\"text/javascript\">                                    window.PLOTLYENV=window.PLOTLYENV || {};                                    if (document.getElementById(\"c35bcc3e-caa2-4e2b-aa8d-8cbde148fed2\")) {                    Plotly.newPlot(                        \"c35bcc3e-caa2-4e2b-aa8d-8cbde148fed2\",                        [{\"alignmentgroup\":\"True\",\"bingroup\":\"x\",\"hovertemplate\":\"variable=class<br>value=%{x}<br>count=%{y}<extra></extra>\",\"legendgroup\":\"class\",\"marker\":{\"color\":\"#636efa\",\"pattern\":{\"shape\":\"\"}},\"name\":\"class\",\"offsetgroup\":\"class\",\"orientation\":\"v\",\"showlegend\":true,\"x\":[2,2,2,2,2,2,1,2,2,2,2,2,2,2,2,2,2,2,2,2,2,2,2,2,2,2,2,2,2,2,1,1,2,2,2,1,2,2,2,2,2,2,2,2,2,2,2,2,2,2,2,2,2,2,2,2,2,2,2,2,2,2,2,2,2,2,2,1,2,2,2,1,2,2,2,2,1,2,2,2,2,2,2,2,2,2,1,1,1,2,2,1,2,2,1,2,2,2,1,2,1,2,2,2,1,2,1,2,2,1,2,1,2,2,2,2,2,2,1,2,1,2,2,2,2,2,2,1,2,1,2,1,2,2,1,2,2,2,1,2,2,1,2,1,1,2,1,1,2,2,1,2,2,2,1],\"xaxis\":\"x\",\"yaxis\":\"y\",\"type\":\"histogram\"}],                        {\"template\":{\"data\":{\"bar\":[{\"error_x\":{\"color\":\"#2a3f5f\"},\"error_y\":{\"color\":\"#2a3f5f\"},\"marker\":{\"line\":{\"color\":\"#E5ECF6\",\"width\":0.5},\"pattern\":{\"fillmode\":\"overlay\",\"size\":10,\"solidity\":0.2}},\"type\":\"bar\"}],\"barpolar\":[{\"marker\":{\"line\":{\"color\":\"#E5ECF6\",\"width\":0.5},\"pattern\":{\"fillmode\":\"overlay\",\"size\":10,\"solidity\":0.2}},\"type\":\"barpolar\"}],\"carpet\":[{\"aaxis\":{\"endlinecolor\":\"#2a3f5f\",\"gridcolor\":\"white\",\"linecolor\":\"white\",\"minorgridcolor\":\"white\",\"startlinecolor\":\"#2a3f5f\"},\"baxis\":{\"endlinecolor\":\"#2a3f5f\",\"gridcolor\":\"white\",\"linecolor\":\"white\",\"minorgridcolor\":\"white\",\"startlinecolor\":\"#2a3f5f\"},\"type\":\"carpet\"}],\"choropleth\":[{\"colorbar\":{\"outlinewidth\":0,\"ticks\":\"\"},\"type\":\"choropleth\"}],\"contour\":[{\"colorbar\":{\"outlinewidth\":0,\"ticks\":\"\"},\"colorscale\":[[0.0,\"#0d0887\"],[0.1111111111111111,\"#46039f\"],[0.2222222222222222,\"#7201a8\"],[0.3333333333333333,\"#9c179e\"],[0.4444444444444444,\"#bd3786\"],[0.5555555555555556,\"#d8576b\"],[0.6666666666666666,\"#ed7953\"],[0.7777777777777778,\"#fb9f3a\"],[0.8888888888888888,\"#fdca26\"],[1.0,\"#f0f921\"]],\"type\":\"contour\"}],\"contourcarpet\":[{\"colorbar\":{\"outlinewidth\":0,\"ticks\":\"\"},\"type\":\"contourcarpet\"}],\"heatmap\":[{\"colorbar\":{\"outlinewidth\":0,\"ticks\":\"\"},\"colorscale\":[[0.0,\"#0d0887\"],[0.1111111111111111,\"#46039f\"],[0.2222222222222222,\"#7201a8\"],[0.3333333333333333,\"#9c179e\"],[0.4444444444444444,\"#bd3786\"],[0.5555555555555556,\"#d8576b\"],[0.6666666666666666,\"#ed7953\"],[0.7777777777777778,\"#fb9f3a\"],[0.8888888888888888,\"#fdca26\"],[1.0,\"#f0f921\"]],\"type\":\"heatmap\"}],\"heatmapgl\":[{\"colorbar\":{\"outlinewidth\":0,\"ticks\":\"\"},\"colorscale\":[[0.0,\"#0d0887\"],[0.1111111111111111,\"#46039f\"],[0.2222222222222222,\"#7201a8\"],[0.3333333333333333,\"#9c179e\"],[0.4444444444444444,\"#bd3786\"],[0.5555555555555556,\"#d8576b\"],[0.6666666666666666,\"#ed7953\"],[0.7777777777777778,\"#fb9f3a\"],[0.8888888888888888,\"#fdca26\"],[1.0,\"#f0f921\"]],\"type\":\"heatmapgl\"}],\"histogram\":[{\"marker\":{\"pattern\":{\"fillmode\":\"overlay\",\"size\":10,\"solidity\":0.2}},\"type\":\"histogram\"}],\"histogram2d\":[{\"colorbar\":{\"outlinewidth\":0,\"ticks\":\"\"},\"colorscale\":[[0.0,\"#0d0887\"],[0.1111111111111111,\"#46039f\"],[0.2222222222222222,\"#7201a8\"],[0.3333333333333333,\"#9c179e\"],[0.4444444444444444,\"#bd3786\"],[0.5555555555555556,\"#d8576b\"],[0.6666666666666666,\"#ed7953\"],[0.7777777777777778,\"#fb9f3a\"],[0.8888888888888888,\"#fdca26\"],[1.0,\"#f0f921\"]],\"type\":\"histogram2d\"}],\"histogram2dcontour\":[{\"colorbar\":{\"outlinewidth\":0,\"ticks\":\"\"},\"colorscale\":[[0.0,\"#0d0887\"],[0.1111111111111111,\"#46039f\"],[0.2222222222222222,\"#7201a8\"],[0.3333333333333333,\"#9c179e\"],[0.4444444444444444,\"#bd3786\"],[0.5555555555555556,\"#d8576b\"],[0.6666666666666666,\"#ed7953\"],[0.7777777777777778,\"#fb9f3a\"],[0.8888888888888888,\"#fdca26\"],[1.0,\"#f0f921\"]],\"type\":\"histogram2dcontour\"}],\"mesh3d\":[{\"colorbar\":{\"outlinewidth\":0,\"ticks\":\"\"},\"type\":\"mesh3d\"}],\"parcoords\":[{\"line\":{\"colorbar\":{\"outlinewidth\":0,\"ticks\":\"\"}},\"type\":\"parcoords\"}],\"pie\":[{\"automargin\":true,\"type\":\"pie\"}],\"scatter\":[{\"marker\":{\"colorbar\":{\"outlinewidth\":0,\"ticks\":\"\"}},\"type\":\"scatter\"}],\"scatter3d\":[{\"line\":{\"colorbar\":{\"outlinewidth\":0,\"ticks\":\"\"}},\"marker\":{\"colorbar\":{\"outlinewidth\":0,\"ticks\":\"\"}},\"type\":\"scatter3d\"}],\"scattercarpet\":[{\"marker\":{\"colorbar\":{\"outlinewidth\":0,\"ticks\":\"\"}},\"type\":\"scattercarpet\"}],\"scattergeo\":[{\"marker\":{\"colorbar\":{\"outlinewidth\":0,\"ticks\":\"\"}},\"type\":\"scattergeo\"}],\"scattergl\":[{\"marker\":{\"colorbar\":{\"outlinewidth\":0,\"ticks\":\"\"}},\"type\":\"scattergl\"}],\"scattermapbox\":[{\"marker\":{\"colorbar\":{\"outlinewidth\":0,\"ticks\":\"\"}},\"type\":\"scattermapbox\"}],\"scatterpolar\":[{\"marker\":{\"colorbar\":{\"outlinewidth\":0,\"ticks\":\"\"}},\"type\":\"scatterpolar\"}],\"scatterpolargl\":[{\"marker\":{\"colorbar\":{\"outlinewidth\":0,\"ticks\":\"\"}},\"type\":\"scatterpolargl\"}],\"scatterternary\":[{\"marker\":{\"colorbar\":{\"outlinewidth\":0,\"ticks\":\"\"}},\"type\":\"scatterternary\"}],\"surface\":[{\"colorbar\":{\"outlinewidth\":0,\"ticks\":\"\"},\"colorscale\":[[0.0,\"#0d0887\"],[0.1111111111111111,\"#46039f\"],[0.2222222222222222,\"#7201a8\"],[0.3333333333333333,\"#9c179e\"],[0.4444444444444444,\"#bd3786\"],[0.5555555555555556,\"#d8576b\"],[0.6666666666666666,\"#ed7953\"],[0.7777777777777778,\"#fb9f3a\"],[0.8888888888888888,\"#fdca26\"],[1.0,\"#f0f921\"]],\"type\":\"surface\"}],\"table\":[{\"cells\":{\"fill\":{\"color\":\"#EBF0F8\"},\"line\":{\"color\":\"white\"}},\"header\":{\"fill\":{\"color\":\"#C8D4E3\"},\"line\":{\"color\":\"white\"}},\"type\":\"table\"}]},\"layout\":{\"annotationdefaults\":{\"arrowcolor\":\"#2a3f5f\",\"arrowhead\":0,\"arrowwidth\":1},\"autotypenumbers\":\"strict\",\"coloraxis\":{\"colorbar\":{\"outlinewidth\":0,\"ticks\":\"\"}},\"colorscale\":{\"diverging\":[[0,\"#8e0152\"],[0.1,\"#c51b7d\"],[0.2,\"#de77ae\"],[0.3,\"#f1b6da\"],[0.4,\"#fde0ef\"],[0.5,\"#f7f7f7\"],[0.6,\"#e6f5d0\"],[0.7,\"#b8e186\"],[0.8,\"#7fbc41\"],[0.9,\"#4d9221\"],[1,\"#276419\"]],\"sequential\":[[0.0,\"#0d0887\"],[0.1111111111111111,\"#46039f\"],[0.2222222222222222,\"#7201a8\"],[0.3333333333333333,\"#9c179e\"],[0.4444444444444444,\"#bd3786\"],[0.5555555555555556,\"#d8576b\"],[0.6666666666666666,\"#ed7953\"],[0.7777777777777778,\"#fb9f3a\"],[0.8888888888888888,\"#fdca26\"],[1.0,\"#f0f921\"]],\"sequentialminus\":[[0.0,\"#0d0887\"],[0.1111111111111111,\"#46039f\"],[0.2222222222222222,\"#7201a8\"],[0.3333333333333333,\"#9c179e\"],[0.4444444444444444,\"#bd3786\"],[0.5555555555555556,\"#d8576b\"],[0.6666666666666666,\"#ed7953\"],[0.7777777777777778,\"#fb9f3a\"],[0.8888888888888888,\"#fdca26\"],[1.0,\"#f0f921\"]]},\"colorway\":[\"#636efa\",\"#EF553B\",\"#00cc96\",\"#ab63fa\",\"#FFA15A\",\"#19d3f3\",\"#FF6692\",\"#B6E880\",\"#FF97FF\",\"#FECB52\"],\"font\":{\"color\":\"#2a3f5f\"},\"geo\":{\"bgcolor\":\"white\",\"lakecolor\":\"white\",\"landcolor\":\"#E5ECF6\",\"showlakes\":true,\"showland\":true,\"subunitcolor\":\"white\"},\"hoverlabel\":{\"align\":\"left\"},\"hovermode\":\"closest\",\"mapbox\":{\"style\":\"light\"},\"paper_bgcolor\":\"white\",\"plot_bgcolor\":\"#E5ECF6\",\"polar\":{\"angularaxis\":{\"gridcolor\":\"white\",\"linecolor\":\"white\",\"ticks\":\"\"},\"bgcolor\":\"#E5ECF6\",\"radialaxis\":{\"gridcolor\":\"white\",\"linecolor\":\"white\",\"ticks\":\"\"}},\"scene\":{\"xaxis\":{\"backgroundcolor\":\"#E5ECF6\",\"gridcolor\":\"white\",\"gridwidth\":2,\"linecolor\":\"white\",\"showbackground\":true,\"ticks\":\"\",\"zerolinecolor\":\"white\"},\"yaxis\":{\"backgroundcolor\":\"#E5ECF6\",\"gridcolor\":\"white\",\"gridwidth\":2,\"linecolor\":\"white\",\"showbackground\":true,\"ticks\":\"\",\"zerolinecolor\":\"white\"},\"zaxis\":{\"backgroundcolor\":\"#E5ECF6\",\"gridcolor\":\"white\",\"gridwidth\":2,\"linecolor\":\"white\",\"showbackground\":true,\"ticks\":\"\",\"zerolinecolor\":\"white\"}},\"shapedefaults\":{\"line\":{\"color\":\"#2a3f5f\"}},\"ternary\":{\"aaxis\":{\"gridcolor\":\"white\",\"linecolor\":\"white\",\"ticks\":\"\"},\"baxis\":{\"gridcolor\":\"white\",\"linecolor\":\"white\",\"ticks\":\"\"},\"bgcolor\":\"#E5ECF6\",\"caxis\":{\"gridcolor\":\"white\",\"linecolor\":\"white\",\"ticks\":\"\"}},\"title\":{\"x\":0.05},\"xaxis\":{\"automargin\":true,\"gridcolor\":\"white\",\"linecolor\":\"white\",\"ticks\":\"\",\"title\":{\"standoff\":15},\"zerolinecolor\":\"white\",\"zerolinewidth\":2},\"yaxis\":{\"automargin\":true,\"gridcolor\":\"white\",\"linecolor\":\"white\",\"ticks\":\"\",\"title\":{\"standoff\":15},\"zerolinecolor\":\"white\",\"zerolinewidth\":2}}},\"xaxis\":{\"anchor\":\"y\",\"domain\":[0.0,1.0],\"title\":{\"text\":\"value\"}},\"yaxis\":{\"anchor\":\"x\",\"domain\":[0.0,1.0],\"title\":{\"text\":\"count\"}},\"legend\":{\"title\":{\"text\":\"variable\"},\"tracegroupgap\":0},\"margin\":{\"t\":60},\"barmode\":\"relative\"},                        {\"responsive\": true}                    ).then(function(){\n",
              "                            \n",
              "var gd = document.getElementById('c35bcc3e-caa2-4e2b-aa8d-8cbde148fed2');\n",
              "var x = new MutationObserver(function (mutations, observer) {{\n",
              "        var display = window.getComputedStyle(gd).display;\n",
              "        if (!display || display === 'none') {{\n",
              "            console.log([gd, 'removed!']);\n",
              "            Plotly.purge(gd);\n",
              "            observer.disconnect();\n",
              "        }}\n",
              "}});\n",
              "\n",
              "// Listen for the removal of the full notebook cells\n",
              "var notebookContainer = gd.closest('#notebook-container');\n",
              "if (notebookContainer) {{\n",
              "    x.observe(notebookContainer, {childList: true});\n",
              "}}\n",
              "\n",
              "// Listen for the clearing of the current output cell\n",
              "var outputEl = gd.closest('.output');\n",
              "if (outputEl) {{\n",
              "    x.observe(outputEl, {childList: true});\n",
              "}}\n",
              "\n",
              "                        })                };                            </script>        </div>\n",
              "</body>\n",
              "</html>"
            ]
          },
          "metadata": {}
        }
      ]
    },
    {
      "cell_type": "code",
      "source": [
        "hepatitis_df['class'].value_counts()"
      ],
      "metadata": {
        "colab": {
          "base_uri": "https://localhost:8080/"
        },
        "id": "RMbD5ZAW1byQ",
        "outputId": "3cef9a8c-cec2-4f7f-896d-6793d69f3acf"
      },
      "execution_count": null,
      "outputs": [
        {
          "output_type": "execute_result",
          "data": {
            "text/plain": [
              "2    123\n",
              "1     32\n",
              "Name: class, dtype: int64"
            ]
          },
          "metadata": {},
          "execution_count": 32
        }
      ]
    },
    {
      "cell_type": "code",
      "source": [
        "sns.set_style('white')\n",
        "plt.figure(figsize=(10, 8))\n",
        "sns.distplot(a= hepatitis_df['albumin'], kde=True)"
      ],
      "metadata": {
        "colab": {
          "base_uri": "https://localhost:8080/",
          "height": 604
        },
        "id": "6RZAf1XR2YaR",
        "outputId": "5ca7f95e-7638-4885-9129-ab6419486d1c"
      },
      "execution_count": null,
      "outputs": [
        {
          "output_type": "stream",
          "name": "stderr",
          "text": [
            "/usr/local/lib/python3.7/dist-packages/seaborn/distributions.py:2619: FutureWarning:\n",
            "\n",
            "`distplot` is a deprecated function and will be removed in a future version. Please adapt your code to use either `displot` (a figure-level function with similar flexibility) or `histplot` (an axes-level function for histograms).\n",
            "\n"
          ]
        },
        {
          "output_type": "execute_result",
          "data": {
            "text/plain": [
              "<matplotlib.axes._subplots.AxesSubplot at 0x7f818500fc50>"
            ]
          },
          "metadata": {},
          "execution_count": 32
        },
        {
          "output_type": "display_data",
          "data": {
            "image/png": "[encoded data removed]",
            "text/plain": [
              "<Figure size 720x576 with 1 Axes>"
            ]
          },
          "metadata": {}
        }
      ]
    },
    {
      "cell_type": "code",
      "source": [
        "sns.scatterplot(x=hepatitis_df['alk phosphate'], y=hepatitis_df['ascites'])"
      ],
      "metadata": {
        "colab": {
          "base_uri": "https://localhost:8080/",
          "height": 296
        },
        "id": "t-x1PeT04iJa",
        "outputId": "ef9d0d1f-82f0-413d-a416-62e62f615d01"
      },
      "execution_count": null,
      "outputs": [
        {
          "output_type": "execute_result",
          "data": {
            "text/plain": [
              "<matplotlib.axes._subplots.AxesSubplot at 0x7f818500fe90>"
            ]
          },
          "metadata": {},
          "execution_count": 33
        },
        {
          "output_type": "display_data",
          "data": {
            "image/png": "[encoded data removed]",
            "text/plain": [
              "<Figure size 432x288 with 1 Axes>"
            ]
          },
          "metadata": {}
        }
      ]
    },
    {
      "cell_type": "code",
      "source": [
        "mode = hepatitis_df.drop(columns=[\"age\",\"bilirubin\",\t\"alk phosphate\",\t\"sgot\",\t\"albumin\"]).groupby(by=[\"class\"]).agg(lambda x:x.value_counts().index[0])\n",
        "\n",
        "#class 1 means die and class 2 means live\n",
        "#visualization of the data\n",
        "label_names = list(mode.columns)\n",
        "for i, label in enumerate(label_names):\n",
        "    print(i + 1, label)\n",
        "labels = [i for i in range(1, 14)]\n",
        "\n",
        "class1_mode = mode.iloc[0].astype(int)\n",
        "class2_mode = mode.iloc[1].astype(int)\n",
        "\n",
        "x = np.arange(len(labels))  # the label locations\n",
        "width = 0.35  # the width of the bars\n",
        "\n",
        "fig, ax = plt.subplots()\n",
        "rects1 = ax.bar(x - width/2, class1_mode, width, label='class 1')\n",
        "rects2 = ax.bar(x + width/2, class2_mode, width, label='class 2')\n",
        "\n",
        "# Add some text for labels, title and custom x-axis tick labels, etc.\n",
        "ax.set_ylabel('Mode Values')\n",
        "# ax.set_title('')\n",
        "ax.set_xticks(x)\n",
        "ax.set_xticklabels(labels)\n",
        "ax.legend()\n",
        "fig.tight_layout()\n",
        "plt.show()"
      ],
      "metadata": {
        "colab": {
          "base_uri": "https://localhost:8080/",
          "height": 523
        },
        "id": "2j39qaSaJ6vP",
        "outputId": "a598ca07-5848-4381-956e-5f78687b919a"
      },
      "execution_count": null,
      "outputs": [
        {
          "output_type": "stream",
          "name": "stdout",
          "text": [
            "1 sex\n",
            "2 steroid\n",
            "3 antivirals\n",
            "4 fatigue\n",
            "5 malaise\n",
            "6 anorexia\n",
            "7 liver big\n",
            "8 liver firm\n",
            "9 spleen palpable\n",
            "10 spiders\n",
            "11 ascites\n",
            "12 varices\n",
            "13 histology\n"
          ]
        },
        {
          "output_type": "display_data",
          "data": {
            "image/png": "[encoded data removed]",
            "text/plain": [
              "<Figure size 432x288 with 1 Axes>"
            ]
          },
          "metadata": {}
        }
      ]
    },
    {
      "cell_type": "code",
      "source": [
        "numeric = hepatitis_df.select_dtypes(include=np.number)\n",
        "numeric_columns = numeric.columns"
      ],
      "metadata": {
        "id": "tAu4teI-r_nf"
      },
      "execution_count": null,
      "outputs": []
    },
    {
      "cell_type": "code",
      "source": [
        "hepatitis_df[numeric_columns] = hepatitis_df[numeric_columns].fillna(hepatitis_df.mean())"
      ],
      "metadata": {
        "id": "_YbFch3TsI6R"
      },
      "execution_count": null,
      "outputs": []
    },
    {
      "cell_type": "code",
      "source": [
        "hepatitis_df.isna().sum(axis=0)"
      ],
      "metadata": {
        "colab": {
          "base_uri": "https://localhost:8080/"
        },
        "id": "P8_2Hz0lsy6k",
        "outputId": "08b942fe-dd06-4643-96b9-81cda1851cb5"
      },
      "execution_count": null,
      "outputs": [
        {
          "output_type": "execute_result",
          "data": {
            "text/plain": [
              "class              0\n",
              "age                0\n",
              "sex                0\n",
              "steroid            0\n",
              "antivirals         0\n",
              "fatigue            0\n",
              "malaise            0\n",
              "anorexia           0\n",
              "liver big          0\n",
              "liver firm         0\n",
              "spleen palpable    0\n",
              "spiders            0\n",
              "ascites            0\n",
              "varices            0\n",
              "bilirubin          0\n",
              "alk phosphate      0\n",
              "sgot               0\n",
              "albumin            0\n",
              "histology          0\n",
              "dtype: int64"
            ]
          },
          "metadata": {},
          "execution_count": 37
        }
      ]
    },
    {
      "cell_type": "markdown",
      "source": [
        "# KNN"
      ],
      "metadata": {
        "id": "JqRodmZBd4P-"
      }
    },
    {
      "cell_type": "code",
      "source": [
        "# # Changelist: Added cross validation, fixed accuracy calculation. Not entirely sure about deicsion boundary \n",
        "# class KNN:\n",
        "#     EUCLIDEAN = lambda x1, x2: np.sqrt(np.sum((x1 - x2) ** 2, axis=-1))\n",
        "#     MANHATTEN = lambda x1, x2: np.sum(np.abs(x1 - x2), axis=-1)\n",
        "\n",
        "#     def __init__(self, K, dist_fn):\n",
        "#         self.K = K\n",
        "#         self.dist_fn = dist_fn\n",
        "\n",
        "#         if dist_fn == KNN.EUCLIDEAN:    self.dist_fn_name = 'euclidean'\n",
        "#         elif dist_fn == KNN.MANHATTEN:  self.dist_fn_name = 'manhatten'\n",
        "\n",
        "#     def __str__(self):\n",
        "#         return f'KNN model with K = {self.K} using {self.dist_fn_name} distance function'\n",
        "\n",
        "#     def fit(self, X: np.ndarray, y: np.ndarray):\n",
        "#         # Just store the data and class labels\n",
        "#         self.X_train = X\n",
        "#         self.y_train = y\n",
        "\n",
        "#     def predict(self, X_test: np.ndarray) -> np.ndarray:\n",
        "\n",
        "#         X_test = X_test\n",
        "#         n_test = len(X_test)\n",
        "#         '''\n",
        "#         We want to find distance of every point in X_test of shape (n_test,n_features)\n",
        "#         with every point in X_train of shape (n_train, n_features). To do this in one \n",
        "#         numpy operation, we pad X_test with a dummy axis so that its shape is \n",
        "#         (n_train, 1, n_features).\n",
        "#         See https://stackoverflow.com/a/37903795/3613100 for a good explanation.\n",
        "#         distances will be of shape (n_test, n_train) and will contain distance of each point\n",
        "#         in X_test (axis 0) with each point in X_train (axis 1). \n",
        "#         '''\n",
        "#         distances = self.dist_fn(X_test[:, np.newaxis, :], self.X_train)\n",
        "\n",
        "#         '''\n",
        "#         Initialize a matrix to store KNN's indices for each test datapoint. This will have shape \n",
        "#         (n_test, K). The i'th row will store indices of KNN's to the i'th test point. The \n",
        "#         indices refer to indices in self.X_train.\n",
        "#         '''\n",
        "#         knns_indices = np.zeros((n_test, self.K), dtype=int)\n",
        "\n",
        "#         # i'th entry in y_pred will be the predicted class label of i'th test datapoint.\n",
        "#         y_pred = np.zeros(n_test, dtype=int)\n",
        "\n",
        "#         for i in range(n_test):\n",
        "#             knns_indices[i, :] = np.argsort(distances[i])[:self.K]\n",
        "#             knn_classes = self.y_train[knns_indices[i]]\n",
        "#             vals, counts = np.unique(knn_classes, return_counts=True)\n",
        "#             y_pred[i] = vals[np.argmax(counts)]\n",
        "\n",
        "#         return y_pred\n",
        "\n",
        "# def evaluate_acc(y_pred: np.ndarray, y_actual: np.ndarray) -> float:\n",
        "#     # Returns accuracy %.\n",
        "#     num_correct_labels = np.sum(y_pred == y_actual)\n",
        "#     return (num_correct_labels / len(y_pred)) * 100.0\n",
        "\n",
        "\n",
        "# def cross_validate(model, all_data: pd.DataFrame, L=3) -> float:\n",
        "#     '''\n",
        "#     Returns L-folds cross-validated accuracy %.\n",
        "#     '''\n",
        "#     total_size = len(all_data)\n",
        "#     # It's possible for L to not be an exact multiple of total_size, but\n",
        "#     # in such cases the number of dropped datapoints will be very small\n",
        "#     # compared to total data points.\n",
        "#     fold_size = total_size // L\n",
        "\n",
        "#     # Extract labels as a separate array\n",
        "#     labels = all_data['class']\n",
        "#     # Remove labels from data array\n",
        "#     all_data.drop('class', axis=1, inplace=True)\n",
        "#     total_accuracy = 0.0\n",
        "\n",
        "#     for l in range(L):\n",
        "#         # Create empty dataframes to hold training set\n",
        "#         training_data = pd.DataFrame(dtype='float64', columns=all_data.columns)\n",
        "#         training_labels = pd.Series(dtype='int64')\n",
        "\n",
        "#         validation_data = training_data = pd.DataFrame(dtype='float64', columns=all_data.columns)\n",
        "#         validation_labels = pd.Series(dtype='int64')\n",
        "\n",
        "#         current_fold = 0\n",
        "#         current_start_index = 0\n",
        "#         while current_fold < L:\n",
        "#             end_index = current_start_index + fold_size\n",
        "#             fold_data = all_data[current_start_index : end_index]\n",
        "#             fold_labels = labels[current_start_index : end_index]\n",
        "#             # print(f'Sliced from {current_start_index} to {end_index}')\n",
        "\n",
        "#             if current_fold == l:\n",
        "#                 # Hold out the l'th fold data for validation\n",
        "#                 validation_data = fold_data\n",
        "#                 validation_labels = fold_labels\n",
        "#             else:\n",
        "#                 # else add the (l-1) folds to training set\n",
        "#                 training_data = training_data.append(fold_data)\n",
        "#                 training_labels = training_labels.append(fold_labels)\n",
        "\n",
        "#             current_fold += 1\n",
        "#             current_start_index = end_index\n",
        "\n",
        "#         # At this point we have the correct train and validation sets for the L'th run\n",
        "#         model.fit(training_data.to_numpy(), training_labels.to_numpy())\n",
        "#         y_pred = model.predict(validation_data.to_numpy())\n",
        "\n",
        "#         accuracy = evaluate_acc(y_pred, validation_labels.to_numpy())\n",
        "#         print(f'Accuracy for {model} for cross validation run {l} with folds size {fold_size} is {round(accuracy,2)}%.')\n",
        "#         total_accuracy += accuracy\n",
        "\n",
        "#     return total_accuracy / L\n",
        "\n",
        "\n",
        "# def run_experiment(dataset, K, distance_fn):\n",
        "\n",
        "#         if dataset == 'diabetes':\n",
        "#             all_data = dr_load('messidor_features.arff')\n",
        "#             dr_show_stats(all_data)\n",
        "#             # No need to clean this as there are no missing values\n",
        "#         elif dataset == 'hepatitis':\n",
        "#             all_data = hep_load('hepatitis.data')\n",
        "#             hep_show_stats(all_data)\n",
        "#             all_data = hep_clean(all_data)\n",
        "\n",
        "#         else:   raise Exception('Wrong dataset name!')\n",
        "\n",
        "#         # Everything below this is train and everything after is test\n",
        "#         # Using a 60/40% split for train/test\n",
        "#         split_index = int(len(all_data) * 0.7)\n",
        "\n",
        "#         # Vanilla train/test KNN\n",
        "        \n",
        "\n",
        "        \n",
        "\n",
        "#         # Vanilla train/test KNN\n",
        "#         knn = KNN(K=K, dist_fn=distance_fn)\n",
        "#         X_train = all_data[:split_index].drop('class', axis=1).to_numpy()\n",
        "#         y_train = all_data['class'][:split_index].to_numpy()\n",
        "#         knn.fit(X_train, y_train)\n",
        "\n",
        "#         X_test = all_data[split_index:].drop('class', axis=1).to_numpy()\n",
        "#         y_test = all_data['class'][split_index:].to_numpy()\n",
        "\n",
        "#         y_pred = knn.predict(X_test)\n",
        "#         accuracy = evaluate_acc(y_pred, y_test)\n",
        "#         print(f'Accuracy of {knn} on {dataset} dataset is {round(accuracy, 2)}%.')\n",
        "        \n",
        "\n",
        "#         # Decision boundary\n",
        "#         RESOLUTION = 500\n",
        "\n",
        "#         # Discretize the feature space\n",
        "#         NUM_FEATURES = X_test.shape[1]\n",
        "#         discretized_features = []\n",
        "#         for i in range(NUM_FEATURES):\n",
        "#             discretized_features.append(\n",
        "#                 np.linspace(np.min(X_test[:, i]), np.max(X_test[:, i]), RESOLUTION))\n",
        "#         all_discretized = np.vstack(discretized_features).T\n",
        "\n",
        "#         # feature1v = np.linspace(np.min(X_test[:, 2]), np.max(X_test[:, 2]), RESOLUTION)\n",
        "#         # feature2v = np.linspace(np.min(X_test[:, 3]), np.max(X_test[:, 3]), RESOLUTION)\n",
        "#         # discretized = np.vstack((feature1v.ravel(), feature2v.ravel())).T\n",
        "\n",
        "#         x0, x1 = np.meshgrid(discretized_features[3], discretized_features[9])\n",
        "#         x_all = np.vstack((x0.ravel(), x1.ravel())).T\n",
        "\n",
        "#         discreized_predictions = knn.predict(all_discretized)\n",
        "\n",
        "#         BLUE = [0, 0, 1]\n",
        "#         RED =  [1, 0, 0]\n",
        "\n",
        "#         fig = plt.figure()\n",
        "#         ax = fig.add_subplot(111, projection='3d')\n",
        "#         ax.scatter(X_test[:, 3], X_test[:, 9], y_test, c=y_test, cmap=plt.cm.coolwarm)\n",
        "#         ax.scatter(X_test[:, 3], X_test[:, 9], y_pred, c=y_pred, cmap=plt.cm.coolwarm)\n",
        "#         ax.set_xlabel('feature 3')\n",
        "#         ax.set_ylabel('feature 9')\n",
        "#         ax.set_zlabel('class')\n",
        "#         plt.show()\n",
        "\n",
        "\n",
        "#         '''\n",
        "#         sklearn comparison        \n",
        "#         from sklearn.neighbors import KNeighborsClassifier\n",
        "#         from sklearn.metrics import accuracy_score\n",
        "#         knn = KNeighborsClassifier(n_neighbors = K)\n",
        "#         knn.fit(X_train, y_train)\n",
        "#         y_pred = knn.predict(X_test)\n",
        "#         print('KNN Breast cancer Model accuracy score: {0:0.4f}'. format(accuracy_score(y_test, y_pred)))\n",
        "#         '''\n",
        "\n",
        "#         #  Cross validation\n",
        "#         L = 3   # number of cross validation folds\n",
        "#         Ks = [i for i in range(1, 20)]     # different values of K's to check for\n",
        "\n",
        "#         best_model = None\n",
        "#         best_validation_accuracy = -1.0\n",
        "#         all_validation_accs = []\n",
        "#         # np.random.seed(551)\n",
        "\n",
        "#         for K in Ks:\n",
        "#             # Get all the training data (training+validation sets)\n",
        "#             training_data = all_data[:split_index].copy()\n",
        "\n",
        "#             # Remaining data is for test set\n",
        "#             testing_data = all_data[split_index:].drop('class', axis=1)\n",
        "#             testing_labels = all_data['class'][split_index:]\n",
        "\n",
        "#             knn = KNN(K=K, dist_fn=distance_fn)\n",
        "#             # Run cross validation\n",
        "#             cross_accuracy = cross_validate(knn, training_data, L=L)\n",
        "#             print(f'Average {L} folds cross-validation accuracy '\n",
        "#                   f'for {knn} is {round(cross_accuracy, 2)}%.')\n",
        "\n",
        "#             all_validation_accs.append(cross_accuracy)\n",
        "#             if cross_accuracy > best_validation_accuracy:\n",
        "#                 best_validation_accuracy = cross_accuracy\n",
        "#                 best_model = knn\n",
        "\n",
        "#             # Run on test set\n",
        "#             test_pred = knn.predict(testing_data.to_numpy())\n",
        "#             test_acc = evaluate_acc(test_pred, testing_labels.to_numpy())\n",
        "#             print(f'Testing accuracy for {knn} is {round(test_acc, 2)}%.')\n",
        "\n",
        "#         print(f'{best_model} was found to be the best model with validation accuracy = '\n",
        "#               f'{round(best_validation_accuracy,2)}%.')\n",
        "\n",
        "\n",
        "#         plt.scatter(Ks, all_validation_accs)\n",
        "#         plt.plot(Ks, all_validation_accs)\n",
        "#         plt.xlabel('K')\n",
        "#         plt.ylabel('validation accuracy %')\n",
        "#         plt.show()\n",
        "#         pass\n",
        "\n",
        "\n",
        "# print('Hepatitis dataset')\n",
        "# run_experiment('hepatitis', K=4, distance_fn=KNN.MANHATTEN)\n"
      ],
      "metadata": {
        "id": "EPhMHnH-OO51"
      },
      "execution_count": null,
      "outputs": []
    },
    {
      "cell_type": "markdown",
      "source": [
        "# Decision Trees"
      ],
      "metadata": {
        "id": "WgGCv33ffI0q"
      }
    },
    {
      "cell_type": "markdown",
      "source": [
        "### Helper Functions"
      ],
      "metadata": {
        "id": "DV6BmW9Azm41"
      }
    },
    {
      "cell_type": "code",
      "source": [
        "# def load_data(file_path, column_names) -> pd.DataFrame:\n",
        "#     df = pd.read_csv(file_path, names=column_names)\n",
        "#     return df"
      ],
      "metadata": {
        "id": "UfhnHak-g5Y8"
      },
      "execution_count": null,
      "outputs": []
    },
    {
      "cell_type": "code",
      "source": [
        "# def clean_data(df) -> pd.DataFrame:\n",
        "#     df = df.apply(pd.to_numeric, errors='coerce')\n",
        "#     df = df.dropna()\n",
        "#     return df"
      ],
      "metadata": {
        "id": "VnbAbaDvg7g_"
      },
      "execution_count": null,
      "outputs": []
    },
    {
      "cell_type": "code",
      "source": [
        "# def train_test_split(df, train_percent, y_col):\n",
        "#     msk = np.random.rand(len(df)) < train_percent\n",
        "#     train = df[msk]\n",
        "#     test = df[~msk]\n",
        "#     x_train = train.loc[:, train.columns != y_col]\n",
        "#     y_train = train.loc[:, train.columns == y_col]\n",
        "#     x_test = test.loc[:, test.columns != y_col]\n",
        "#     y_test = test.loc[:, test.columns == y_col]\n",
        "#     return x_train.to_numpy(), y_train.to_numpy().ravel(), x_test.to_numpy(), y_test.to_numpy().ravel()"
      ],
      "metadata": {
        "id": "2hTKn7F1g97_"
      },
      "execution_count": null,
      "outputs": []
    },
    {
      "cell_type": "markdown",
      "source": [
        "### Node and Tree Class"
      ],
      "metadata": {
        "id": "eJmgPTIWzpyl"
      }
    },
    {
      "cell_type": "code",
      "source": [
        "# class Node:\n",
        "#     def __init__(self, data_indices, parent):\n",
        "#         self.data_indices = data_indices\n",
        "#         self.left = None\n",
        "#         self.right = None\n",
        "#         self.split_feature = None\n",
        "#         self.split_value = None\n",
        "#         self.depth = 0\n",
        "#         self.data = None\n",
        "#         self.probability_of_each_class = None\n",
        "#         if parent:\n",
        "#             self.depth = parent.depth + 1"
      ],
      "metadata": {
        "id": "0xncf2XggvOT"
      },
      "execution_count": null,
      "outputs": []
    },
    {
      "cell_type": "code",
      "source": [
        "# class DecisionTree:\n",
        "#     def __init__(self, cost_function='misclassification', max_depth=3, min_leaf_instances=1):\n",
        "#         self.max_depth = max_depth\n",
        "#         self.root = None\n",
        "#         if cost_function == 'misclassification':\n",
        "#             self.cost_function = self.misclassification_cost\n",
        "#         elif cost_function == 'entropy':\n",
        "#             self.cost_function = self.entropy_cost\n",
        "#         elif cost_function == 'gini':\n",
        "#             self.cost_function = self.gini_index_cost\n",
        "#         self.num_classes = None\n",
        "#         self.min_leaf_instances = min_leaf_instances\n",
        "#         self.data = None\n",
        "#         self.labels = None\n",
        "\n",
        "#     @staticmethod\n",
        "#     def misclassification_cost(data_points):\n",
        "#         return 1 - np.max(np.bincount(data_points) / np.sum(np.bincount(data_points)))\n",
        "\n",
        "#     @staticmethod\n",
        "#     def entropy_cost(data_points):\n",
        "#         probability_of_each_class = np.bincount(data_points) / len(data_points)\n",
        "#         probability_of_each_class = probability_of_each_class[probability_of_each_class > 0]\n",
        "#         return -np.sum(probability_of_each_class * np.log(probability_of_each_class))\n",
        "\n",
        "#     @staticmethod\n",
        "#     def gini_index_cost(data_points):\n",
        "#         probability_of_each_class = np.bincount(data_points) / len(data_points)\n",
        "#         return 1 - np.sum(np.square(probability_of_each_class))\n",
        "\n",
        "#     def split(self, node):\n",
        "#         best_cost = np.inf\n",
        "#         best_feature = None\n",
        "#         best_test_value = None\n",
        "\n",
        "#         # Sort the data points in ascending order\n",
        "#         data = self.data[node.data_indices]\n",
        "#         sorted_data = np.sort(data, axis=0)\n",
        "\n",
        "#         number_of_instances = data.shape[0]\n",
        "#         number_of_features = data.shape[1]\n",
        "\n",
        "#         # Calculating average values of adjacent data points\n",
        "#         candidates = (sorted_data[1:] + sorted_data[:-1]) / float(2)\n",
        "\n",
        "#         # Calculate the best feature and a value from the feature\n",
        "#         # to use for the branching\n",
        "#         for feature in range(number_of_features):\n",
        "#             feature_data_points = data[:, feature]\n",
        "#             # Test for average values between each\n",
        "#             # data points in the feature\n",
        "#             for value in candidates[:, feature]:\n",
        "#                 left_indices = node.data_indices[feature_data_points <= value]\n",
        "#                 right_indices = node.data_indices[feature_data_points > value]\n",
        "\n",
        "#                 # If a value causes either left or right sub array to be 0\n",
        "#                 # then the best cost is inf\n",
        "#                 if len(left_indices) == 0 or len(right_indices) == 0:\n",
        "#                     continue\n",
        "\n",
        "#                 # Calculate a weighted cost, using the given cost function\n",
        "#                 left_cost = self.cost_function(self.labels[left_indices])\n",
        "#                 right_cost = self.cost_function(self.labels[right_indices])\n",
        "#                 cost = (left_indices.shape[0] * left_cost + right_indices.shape[0] * right_cost) / number_of_instances\n",
        "\n",
        "#                 # Update the cost if there is a better cost\n",
        "#                 if cost < best_cost:\n",
        "#                     best_cost = cost\n",
        "#                     best_feature = feature\n",
        "#                     best_test_value = value\n",
        "\n",
        "#         return best_cost, best_feature, best_test_value\n",
        "\n",
        "#     def _fit_tree(self, node):\n",
        "#         # Calculate the probability of reaching this node\n",
        "#         probability_of_each_class = np.bincount(self.labels[node.data_indices], minlength=self.num_classes)\n",
        "#         node.probability_of_each_class = probability_of_each_class / np.sum(probability_of_each_class)\n",
        "\n",
        "#         # Stopping criteria\n",
        "#         # (i) maximum depth\n",
        "#         # (ii) minimum number of elements in the leaf nodes\n",
        "#         # (iii) if entropy, calculate the improvement in the entropy\n",
        "#         if node.depth == self.max_depth \\\n",
        "#                 or len(node.data_indices) <= self.min_leaf_instances:\n",
        "#             return\n",
        "\n",
        "#         # Get the optimal split for the data points associated with the node\n",
        "#         cost, node.split_feature, node.split_value = self.split(node)\n",
        "\n",
        "#         # If the optimal cost is inf, then there's nothing more to do\n",
        "#         if np.isinf(cost):\n",
        "#             return\n",
        "\n",
        "#         # Get the data points towards the left and right of the split respectively\n",
        "#         test = self.data[node.data_indices, node.split_feature] <= node.split_value\n",
        "#         node.left = Node(node.data_indices[test], node)\n",
        "#         node.right = Node(node.data_indices[np.logical_not(test)], node)\n",
        "\n",
        "#         # Run the _fit_tree method recursively for the individual splits\n",
        "#         self._fit_tree(node.left)\n",
        "#         self._fit_tree(node.right)\n",
        "\n",
        "#     def fit(self, data, labels):\n",
        "#         self.data = data\n",
        "#         self.labels = labels\n",
        "#         self.num_classes = np.max(self.labels) + 1\n",
        "#         self.root = Node(np.arange(data.shape[0]), None)\n",
        "#         self._fit_tree(self.root)\n",
        "\n",
        "#     def predict(self, test_data):\n",
        "#         # Initialise the probabilities with 0\n",
        "#         probability_of_each_class = np.zeros((test_data.shape[0], self.num_classes))\n",
        "#         # For every data point in the test data\n",
        "#         # follow the tree branching until you reach the leaf\n",
        "#         # finally calculate the probability\n",
        "#         for n, x in enumerate(test_data):\n",
        "#             node = self.root\n",
        "#             while node.left:\n",
        "#                 if x[node.split_feature] <= node.split_value:\n",
        "#                     node = node.left\n",
        "#                 else:\n",
        "#                     node = node.right\n",
        "#             probability_of_each_class[n, :] = node.probability_of_each_class\n",
        "#         return probability_of_each_class"
      ],
      "metadata": {
        "id": "BQ2FaCatgv2E"
      },
      "execution_count": null,
      "outputs": []
    },
    {
      "cell_type": "markdown",
      "source": [
        "### Hepatitis Dataset"
      ],
      "metadata": {
        "id": "Z7K7-r-7hHFe"
      }
    },
    {
      "cell_type": "code",
      "source": [
        "# # Load and clean the data\n",
        "# hep_columns = ['class', 'age', 'sex', 'steroid', 'antivirals', 'fatigue', 'malaise',\n",
        "#               'anorexia', 'liver big', 'liver firm', 'spleen palpable', 'spiders',\n",
        "#               'ascites', 'varices', 'bilirubin', 'alk phosphate', 'sgot', 'albumin',\n",
        "#               'protime', 'histology']\n",
        "\n",
        "# hep = load_data('hepatitis.data', hep_columns)\n",
        "# hep = clean_data(hep)\n",
        "\n",
        "# # Train tet splitting\n",
        "# # Also convert the data to nd arrays\n",
        "# x_train, y_train, x_test, y_test = train_test_split(hep, train_percent=0.8, y_col='class')\n",
        "# tree = DecisionTree(max_depth=25)\n",
        "\n",
        "# tree.fit(x_train, y_train)\n",
        "\n",
        "# probs_test = tree.predict(x_test)\n",
        "# y_pred = np.argmax(probs_test, 1)\n",
        "# accuracy = np.sum(y_pred == y_test) / y_test.shape[0]\n",
        "# print(f'accuracy is {accuracy * 100:.1f}.')"
      ],
      "metadata": {
        "colab": {
          "base_uri": "https://localhost:8080/"
        },
        "id": "tn-3si1WhDxH",
        "outputId": "482b0f43-c5f3-4c3b-e3d6-fb06b75fb396"
      },
      "execution_count": null,
      "outputs": [
        {
          "output_type": "stream",
          "name": "stdout",
          "text": [
            "accuracy is 61.5.\n"
          ]
        }
      ]
    },
    {
      "cell_type": "markdown",
      "source": [
        "### Decision Tree Decision Boundaries"
      ],
      "metadata": {
        "id": "Li6LgHeahJC_"
      }
    },
    {
      "cell_type": "code",
      "source": [
        "# hep_columns = ['class', 'age', 'sex', 'steroid', 'antivirals', 'fatigue', 'malaise',\n",
        "#               'anorexia', 'liver big', 'liver firm', 'spleen palpable', 'spiders',\n",
        "#               'ascites', 'varices', 'bilirubin', 'alk phosphate', 'sgot', 'albumin',\n",
        "#               'protime', 'histology']\n",
        "\n",
        "# hep = load_data('hepatitis.data', hep_columns)\n",
        "# hep_top_corr = hep[['albumin', 'sgot', 'class']]\n",
        "# # hep_top_corr = hep[['malaise', 'albumin', 'class']]\n",
        "# hep_top_corr = clean_data(hep_top_corr)\n",
        "# hep_top_corr = hep_top_corr.apply(pd.to_numeric, errors='coerce')\n",
        "# hep_top_corr = hep_top_corr.dropna()"
      ],
      "metadata": {
        "id": "2TMb5W-fhH87"
      },
      "execution_count": null,
      "outputs": []
    },
    {
      "cell_type": "code",
      "source": [
        "# def decision_boundary(data, y_label, model):\n",
        "#   x = data.loc[:, data.columns != y_label].to_numpy()\n",
        "#   y = data.loc[:, data.columns == y_label].to_numpy().ravel()\n",
        "#   x_min, x_max = x[:, 0].min() - .5, x[:, 0].max() + .5\n",
        "#   y_min, y_max = x[:, 1].min() - .5, x[:, 1].max() + .5\n",
        "#   xx, yy = np.meshgrid(np.arange(x_min, x_max, 0.02), np.arange(y_min, y_max, 0.02))\n",
        "#   model.fit(x, y)\n",
        "#   y_pred = model.predict(np.c_[xx.ravel(), yy.ravel()])\n",
        "#   y_pred = np.argmax(y_pred, 1)\n",
        "#   y_pred = y_pred.reshape(xx.shape)\n",
        "#   cs = plt.contourf(xx, yy, y_pred, cmap=plt.cm.Pastel1)\n",
        "#   plt.suptitle(\"Decision surface of decision trees for Hepatitis Dataset\")\n",
        "#   for i, color in zip(range(1, 3), \"rb\"):\n",
        "#           idx = np.where(y == i)\n",
        "#           plt.scatter(\n",
        "#               x[idx, 0],\n",
        "#               x[idx, 1],\n",
        "#               c=color,\n",
        "#               cmap=plt.cm.RdYlBu,\n",
        "#               s=10,\n",
        "#               alpha=0.5\n",
        "#           )"
      ],
      "metadata": {
        "id": "EJxyj5LZkxmD"
      },
      "execution_count": null,
      "outputs": []
    },
    {
      "cell_type": "code",
      "source": [
        "# tree = DecisionTree(cost_function='entropy', max_depth=5, min_leaf_instances=2)"
      ],
      "metadata": {
        "id": "1MI0Jl4Dq8b7"
      },
      "execution_count": null,
      "outputs": []
    },
    {
      "cell_type": "code",
      "source": [
        "# decision_boundary(hep_top_corr, 'class', tree)"
      ],
      "metadata": {
        "colab": {
          "base_uri": "https://localhost:8080/",
          "height": 294
        },
        "id": "qNNidjsLr-38",
        "outputId": "d4f900cb-1fbc-4267-9f7a-016a74fe3233"
      },
      "execution_count": null,
      "outputs": [
        {
          "output_type": "display_data",
          "data": {
            "image/png": "[encoded data removed]",
            "text/plain": [
              "<Figure size 432x288 with 1 Axes>"
            ]
          },
          "metadata": {}
        }
      ]
    }
  ],
  "metadata": {
    "colab": {
      "name": "COMP551_Hepatitis.ipynb",
      "provenance": [],
      "collapsed_sections": []
    },
    "kernelspec": {
      "display_name": "Python 3",
      "name": "python3"
    },
    "language_info": {
      "name": "python"
    }
  },
  "nbformat": 4,
  "nbformat_minor": 0
}